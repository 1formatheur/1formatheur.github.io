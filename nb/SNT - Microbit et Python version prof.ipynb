{
  "cells": [
    {
      "metadata": {
        "slideshow": {
          "slide_type": "slide"
        }
      },
      "cell_type": "markdown",
      "source": "# SNT - Micro:bit et Python"
    },
    {
      "metadata": {},
      "cell_type": "markdown",
      "source": "### Cette activité propose:\n- une **initiation à la programmation Python de la carte BBC micro:bit** à destination des enseignants et des élèves de SNT;\n- le traitement des parties suivantes du thème **Informatique embarquée et objets connectés** du programme SNT:\n<img src=\"https://1formatheur.github.io/img/parties_du_programme_traitées.bmp\" alt=\"Parties du programme traitées\" width=60% >"
    },
    {
      "metadata": {
        "slideshow": {
          "slide_type": "slide"
        }
      },
      "cell_type": "markdown",
      "source": "# 1. Présentation de la carte BBC micro:bit"
    },
    {
      "metadata": {
        "slideshow": {
          "slide_type": "subslide"
        }
      },
      "cell_type": "markdown",
      "source": "**BBC micro:bit** est une carte à [microcontrôleur](https://fr.wikipedia.org/wiki/Microcontr%C3%B4leur) conçue en 2015 au Royaume-Uni pour développer l'apprentissage de l'algorithmique et de la programmation. Pourvu de capteurs et d'actionneurs, ce petit ordinateur possède la dernière technologie qui équipe les appareils modernes : téléphones mobiles, réfrigérateurs, montres intelligentes, alarmes antivol, robots, etc..."
    },
    {
      "metadata": {
        "slideshow": {
          "slide_type": "subslide"
        }
      },
      "cell_type": "markdown",
      "source": "Ainsi, il s'apparente à ce que l'on nomme l'**Internet des objets** : Internet of Things, abrégé **IoT**.\n\n<div style=\"text-align:center\">\n<img src=\"https://microbit.org/images/microbit-front.png\" width=\"10%\" style=\"display:inline-block; margin-top:10px !important\"/>\n    <img src=\"https://microbit.org/images/microbit-back.png\" width=\"10%\" style=\"display:inline-block; margin-top:10px !important\"/>\n    </div>"
    },
    {
      "metadata": {
        "slideshow": {
          "slide_type": "subslide"
        }
      },
      "cell_type": "markdown",
      "source": "La carte micro:bit dispose des [spécificités techniques](https://microbit.org/fr/guide/features/)  suivantes :\n\n- 25 LEDs programmables individuellement\n- 2 boutons programmables\n- Broches de connexion\n- Capteurs de lumière et de température\n- Capteurs de mouvements (accéléromètre et boussole)\n- Communication sans fil, via Radio et Bluetooth\n- Interface USB"
    },
    {
      "metadata": {
        "slideshow": {
          "slide_type": "slide"
        }
      },
      "cell_type": "markdown",
      "source": "# 2. Méthodes de programmation"
    },
    {
      "metadata": {
        "slideshow": {
          "slide_type": "subslide"
        }
      },
      "cell_type": "markdown",
      "source": "## 2.1 Sans carte, possibilité d'utiliser un simulateur en ligne\n\nRecopier simplement les programmes dans le simulateur de micro:bit : https://create.withcode.uk/"
    },
    {
      "metadata": {
        "slideshow": {
          "slide_type": "subslide"
        }
      },
      "cell_type": "markdown",
      "source": "## 2.2 Avec carte\nAu moyen du câble fourni, raccordez la carte BBC micro:bit sur un port USB de l'ordinateur. L'ordinateur doit reconnaître la carte comme un nouveau lecteur nommé : `MICROBIT`.\n#### Sur PC\nSous Windows 10 vous ne devriez pas avoir de problème. Sous Windows 7, if faudra installer un driver supplémentaire pour communiquer en direct avec la carte micro:bit depuis un PC :\nhttps://support.microbit.org/support/solutions/articles/19000013984-how-do-i-connect-the-micro-bit-to-my-computer"
    },
    {
      "metadata": {},
      "cell_type": "markdown",
      "source": "#### Sur Mac\nPas d'installation de pilotes nécessaire."
    },
    {
      "metadata": {
        "slideshow": {
          "slide_type": "subslide"
        }
      },
      "cell_type": "markdown",
      "source": "### 2.2.1 Avec l'éditeur Python micro:bit en ligne\nCliquer sur ce lien pour ouvrir l'éditeur : https://python.microbit.org/\n\nA l'ouverture de la page, un programme de \"Hello World\" est proposé par défaut. Le remplacer par votre programme et cliquer sur le bouton `Download` pour télécharger un fichier `microbit.hex` qu'il faudra enregistrer dans le dossier `MICROBIT(E:)` de la carte.\nLa LED jaune située à l'arrière de la carte clignote pendant le transfert du programme. Dès la fin du transfert, le programme est executé par la carte."
    },
    {
      "metadata": {
        "slideshow": {
          "slide_type": "subslide"
        }
      },
      "cell_type": "markdown",
      "source": "### 2.2.2 Avec le logiciel Mu (conseillé)\nIl est aussi possible d'utiliser le [logiciel *Mu*](https://codewith.mu/en/tutorials/1.0/microbit) et d'y recopier tous les programmes de ce bloc-note. L'intérêt de ce logiciel est double:\n- il facilite le transfert du programme dans la carte, il suffit de cliquer sur le bouton `Flasher` pour téléverser et exécuter le programme **en un clic**;\n- il facilite l'écriture des programmes en détectant et **pré-remplissant** les commandes micropython.\n<img src=\"https://1formatheur.github.io/img/boutonmu.png\" alt=\"Bouton de Mu pour flasher micro:bit\" width=35%>\n\nPour revoir le résultat de votre programme une nouvelle fois, on peut soit \"flasher\" à nouveau le programme, soit redémarrer la micro:bit en appuyant sur le bouton `RESET` situé à l'arrière de la carte."
    },
    {
      "metadata": {
        "slideshow": {
          "slide_type": "subslide"
        }
      },
      "cell_type": "markdown",
      "source": "<div style=\"text-align:center\">\n    <img src=\"https://codewith.mu/img/windows_logo.png\" width=\"5%\" style=\"display:inline-block; margin-top:10px !important\"/>\n    <img src=\"https://codewith.mu/img/apple_logo.png\" width=\"5%\" style=\"display:inline-block; margin-top:10px !important\"/>\n    <img src=\"https://codewith.mu/img/portamu.png\" width=\"5%\" style=\"display:inline-block; margin-top:10px !important\"/>\n    <img src=\"https://upload.wikimedia.org/wikipedia/commons/thumb/3/35/Tux.svg/225px-Tux.svg.png\" width=\"5%\" style=\"display:inline-block; margin-top:10px !important\"/>\n    <img src=\"https://codewith.mu/img/python_logo.png\" width=\"5%\" style=\"display:inline-block; margin-top:10px !important\"/>\n    <img src=\"https://codewith.mu/img/rpi_logo.png\" width=\"5%\" style=\"display:inline-block; margin-top:10px !important\"/>\n</div>\n\nIl y a beaucoup de manières d'[installer Mu](https://codewith.mu/en/download). Le plus simple consiste à télécharger le programme d'installation officiel pour *Windows* ou *Mac OSX*. Si vous constatez que vous ne pouvez pas installer Mu parce que l'ordinateur que vous utilisez est verrouillé, vous pouvez essayer **PortaMu**: une méthode permettant d'exécuter Mu à partir d'une **clé USB** sous *Windows* ou *OSX*. Vous pouvez également utiliser l'outil **pip** intégré de Python. Certaines distributions *Linux* sont déjà livrées avec Mu (et vous pouvez utiliser le gestionnaire de paquets de votre système d'exploitation pour l'installer). Enfin, si vous utilisez *Raspbian* (la version de Linux pour *Raspberry Pi*), vous pouvez installer Mu en tant que *package*."
    },
    {
      "metadata": {},
      "cell_type": "markdown",
      "source": "Après installation du logiciel, **le paramétrage suivant est nécessaire**:\n<img src=\"https://1formatheur.github.io/img/logiciel_mu_mode_microbit.png\" alt=\"Logiciel Mu en mode micro:bit\" width=40% >"
    },
    {
      "metadata": {
        "slideshow": {
          "slide_type": "subslide"
        }
      },
      "cell_type": "markdown",
      "source": "### 2.2.3 Dans les cellules de code de ce bloc-note\nPour tester directement nos programmes depuis les cellules de ce bloc-note il faut démarrer un serveur jupyter notebook en local sur votre PC pour y ouvrir une copie de ce document.\n\nDans le menu choisir `Kernel>Change Kernel>micro:bit`. Ce noyau sera disponible en suivant la procédure à cette adresse : https://github.com/takluyver/ubit_kernel"
    },
    {
      "metadata": {
        "slideshow": {
          "slide_type": "slide"
        }
      },
      "cell_type": "markdown",
      "source": "# 3. Initiation à la programmation - fonctionnalités"
    },
    {
      "metadata": {
        "slideshow": {
          "slide_type": "slide"
        }
      },
      "cell_type": "markdown",
      "source": "##  3.1 Commandes de base de l'afficheur, matrice de 5x5 LEDs [voir vidéo explicative (en anglais)](https://youtu.be/qqBmvHD5bCw)\n<div style=\"text-align:center\">\n    <img src=\"https://microbit.org/images/beating-heart.gif\" width=\"15%\" style=\"display:inline-block; margin-top:10px !important\"/>\n</div>\nLED signifie Light Emitting Diode, Diode électroluminescente. La carte micro:bit en dispose de 25, toutes programmables individuellement, ce qui permet d'afficher du texte, des nombres et des images."
    },
    {
      "metadata": {
        "slideshow": {
          "slide_type": "fragment"
        }
      },
      "cell_type": "markdown",
      "source": "### 3.1.1 Afficher un texte \"défilant\" `display.scroll(string, delay=400)`\nNous allons commencer par afficher quelques informations sur l'afficheur."
    },
    {
      "metadata": {
        "trusted": true,
        "slideshow": {
          "slide_type": "subslide"
        }
      },
      "cell_type": "code",
      "source": "from microbit import *\ndisplay.scroll(\"SNT\")",
      "execution_count": null,
      "outputs": []
    },
    {
      "metadata": {
        "slideshow": {
          "slide_type": "fragment"
        }
      },
      "cell_type": "markdown",
      "source": "La première ligne de ce programme importe la bibliothèque de fonctions micro:bit. La deuxième ligne fait défiler un message à l’écran. Cela n'arrive qu'une seule fois.\n\n**Exercice 1:** Modifier le programme précédent pour qu'il affiche le texte de ton choix.\n\nLa vitesse de défilement peut être ralentie ou accélérée à l'aide du paramètre `delay`. Plus le nombre est grand, plus le défilement est lent."
    },
    {
      "metadata": {
        "trusted": true,
        "slideshow": {
          "slide_type": "subslide"
        }
      },
      "cell_type": "code",
      "source": "from microbit import *\ndisplay.scroll(\"IL ETAIT UNE FOIS...\", delay=20)",
      "execution_count": null,
      "outputs": []
    },
    {
      "metadata": {
        "slideshow": {
          "slide_type": "fragment"
        }
      },
      "cell_type": "markdown",
      "source": "**Exercice 2**: Le défilement de la phrase du programme ci-dessus est trop rapide pour pouvoir la lire correctement. Modifie la valeur du paramètre `delay` pour qu'on puisse la lire facilement."
    },
    {
      "metadata": {
        "slideshow": {
          "slide_type": "subslide"
        }
      },
      "cell_type": "markdown",
      "source": "### 3.1.2 Afficher une \"image\" `display.show(image)`\nExécuter le programme suivant:"
    },
    {
      "metadata": {
        "trusted": true,
        "slideshow": {
          "slide_type": "fragment"
        }
      },
      "cell_type": "code",
      "source": "from microbit import *\ndisplay.show(Image.SAD)",
      "execution_count": null,
      "outputs": []
    },
    {
      "metadata": {
        "slideshow": {
          "slide_type": "fragment"
        }
      },
      "cell_type": "markdown",
      "source": "**Exercice 3**: On constate que la carte est un peu triste. Modifier le programme précédent pour lui redonner de la joie."
    },
    {
      "metadata": {
        "slideshow": {
          "slide_type": "subslide"
        }
      },
      "cell_type": "markdown",
      "source": "Aide: ci-dessous la liste des images intégrées:\n\n*Image.HEART\nImage.HEART_SMALL\nImage.HAPPY\nImage.SMILE\nImage.SAD\nImage.CONFUSED\nImage.ANGRY\nImage.ASLEEP\nImage.SURPRISED\nImage.SILLY\nImage.FABULOUS\nImage.MEH\nImage.YES\nImage.NO\nImage.CLOCK12, Image.CLOCK11, Image.CLOCK10, Image.CLOCK9, Image.CLOCK8, Image.CLOCK7, Image.CLOCK6, Image.CLOCK5, Image.CLOCK4, Image.CLOCK3, Image.CLOCK2, Image.CLOCK1\nImage.ARROW_N, Image.ARROW_NE, Image.ARROW_E, Image.ARROW_SE, Image.ARROW_S, Image.ARROW_SW, Image.ARROW_W, Image.ARROW_NW\nImage.TRIANGLE\nImage.TRIANGLE_LEFT\nImage.CHESSBOARD\nImage.DIAMOND\nImage.DIAMOND_SMALL\nImage.SQUARE\nImage.SQUARE_SMALL\nImage.RABBIT\nImage.COW\nImage.MUSIC_CROTCHET\nImage.MUSIC_QUAVER\nImage.MUSIC_QUAVERS\nImage.PITCHFORK\nImage.XMAS\nImage.PACMAN\nImage.TARGET\nImage.TSHIRT\nImage.ROLLERSKATE\nImage.DUCK\nImage.HOUSE\nImage.TORTOISE\nImage.BUTTERFLY\nImage.STICKFIGURE\nImage.GHOST\nImage.SWORD\nImage.GIRAFFE\nImage.SKULL\nImage.UMBRELLA\nImage.SNAKE*\n\n**Prolongement**: essayer plusieurs images intégrées."
    },
    {
      "metadata": {
        "slideshow": {
          "slide_type": "subslide"
        }
      },
      "cell_type": "markdown",
      "source": "#### Créer sa propre image\nChaque pixel LED sur l’affichage physique peut prendre une parmi dix valeurs. Si un pixel prend la valeur 0 c’est qu’il est éteint. Litéralement, il a une luminosité de zéro. En revanche, s’il prend la valeur 9 il est à la luminosité maximale. Les valeurs de 1 à 8 représentent des niveaux de luminosité entre éteint (0) et « au maximum » (9)."
    },
    {
      "metadata": {
        "trusted": true,
        "slideshow": {
          "slide_type": "subslide"
        }
      },
      "cell_type": "code",
      "source": "from microbit import *\n\nbateau = Image(\"05050:\"\n               \"05050:\"\n               \"05050:\"\n               \"99999:\"\n               \"09990\")\n\ndisplay.show(bateau)",
      "execution_count": null,
      "outputs": []
    },
    {
      "metadata": {
        "slideshow": {
          "slide_type": "subslide"
        }
      },
      "cell_type": "markdown",
      "source": "Comment dessiner une image? Chaque ligne de l’affichage physique est représentée par une ligne de nombres se terminant par `:` et entourée de guillemets doubles `\"`. Chaque nombre indique une luminosité. Il y a cinq lignes de cinq nombres donc il est possible de spécifier la luminosité individuelle de chacune des cinq LED sur chacune des cinq lignes sur l’affichage physique. C’est ainsi que l'on crée une image.\n\n**Exercice 4**: Le programme précédent crée et affiche l'image d'un bateau à deux mâts. Le modifier ci-dessous pour obtenir un bateau à un seul mât."
    },
    {
      "metadata": {
        "trusted": true,
        "slideshow": {
          "slide_type": "subslide"
        }
      },
      "cell_type": "code",
      "source": "# Ecrire votre programme ici\n# Correction\nfrom microbit import *\n\nbateau = Image(\"00500:\"\n               \"00500:\"\n               \"00500:\"\n               \"99999:\"\n               \"09990\")\n\ndisplay.show(bateau)",
      "execution_count": null,
      "outputs": []
    },
    {
      "metadata": {
        "slideshow": {
          "slide_type": "subslide"
        }
      },
      "cell_type": "markdown",
      "source": "**Exercice 5**: Rédiger ci-dessous le programme qui affiche l'image suivante:\n<img src=\"https://1formatheur.github.io/img/Ex5.bmp\" alt=\"Exercie 5\" width=15% >"
    },
    {
      "metadata": {
        "trusted": true,
        "slideshow": {
          "slide_type": "subslide"
        }
      },
      "cell_type": "code",
      "source": "# Ecrire votre programme ici\n# Correction\nfrom microbit import *\n\nmonimage = Image(\"90009:\"\n                 \"90009:\"\n                 \"90909:\"\n                 \"90009:\"\n                 \"90009\")\n\ndisplay.show(monimage)",
      "execution_count": null,
      "outputs": []
    },
    {
      "metadata": {
        "slideshow": {
          "slide_type": "subslide"
        }
      },
      "cell_type": "markdown",
      "source": "**Remarque**: on peux aussi écrire les images en une seule ligne:"
    },
    {
      "metadata": {
        "trusted": true,
        "slideshow": {
          "slide_type": "subslide"
        }
      },
      "cell_type": "code",
      "source": "from microbit import *\n\nbateau = Image(\"05050:05050:05050:99999:09990\")\n\ndisplay.show(bateau)",
      "execution_count": null,
      "outputs": []
    },
    {
      "metadata": {
        "trusted": true,
        "slideshow": {
          "slide_type": "subslide"
        }
      },
      "cell_type": "markdown",
      "source": "### 3.1.3 Les pixels (`display.set_pixel(x, y, val)`)\nVous pouvez régler la luminosité des pixels de l'affichage individuellement de 0 (désactivé) à 9 (luminosité maximale). Pour des informations sur les coordonnées de l'affichage, voir le [guide pour matrice à LED](https://microbit.org/guide/hardware/leds/).\n\nExécuter le programme suivant:"
    },
    {
      "metadata": {
        "trusted": true
      },
      "cell_type": "code",
      "source": "from microbit import *\ndisplay.set_pixel(1, 4, 9)",
      "execution_count": null,
      "outputs": []
    },
    {
      "metadata": {
        "trusted": true
      },
      "cell_type": "markdown",
      "source": "**Exercice 6:** Recopier le programme précédent ci-dessous et le modifier pour allumer la LED du centre de la matrice."
    },
    {
      "metadata": {
        "trusted": true
      },
      "cell_type": "code",
      "source": "# Ecrire votre programme ici\n# Correction\nfrom microbit import *\ndisplay.set_pixel(2, 2, 9)",
      "execution_count": null,
      "outputs": []
    },
    {
      "metadata": {},
      "cell_type": "markdown",
      "source": "## 3.2 Boucle `while`\nLe programme suivant utilise une boucle `while` pour faire clignoter le pixel central de manière répétée sur l’écran. La boucle `while` se répète tant que la condition spécifiée est vraie (`True`). Dans ce cas, nous avons dit que la condition est vraie. Cela crée une *boucle infinie*. Le code qui doit être répété est en retrait (c'est une \"indentation\" du texte).\n\nL'instruction de veille `sleep()` provoque la pause du micro:bit pendant un nombre défini de millisecondes choisi entre parenthèses.\n\nL'instruction `display.clear()` éteint l'affichage."
    },
    {
      "metadata": {
        "trusted": true
      },
      "cell_type": "code",
      "source": "from microbit import *\nwhile True:\n    display.set_pixel(2, 2, 9)\n    sleep(500)\n    display.clear()\n    sleep(500)",
      "execution_count": null,
      "outputs": []
    },
    {
      "metadata": {},
      "cell_type": "markdown",
      "source": "#### Avec un peu d'aléatoire  (voir [documentation sur le hasard](https://microbit-micropython.readthedocs.io/fr/latest/tutorials/random.html))\nDans le programme suivant, on importe le module `random` de MicroPython et on l'utilise pour afficher un pixel au hasard sur la matrice."
    },
    {
      "metadata": {
        "trusted": true
      },
      "cell_type": "code",
      "source": "from microbit import *\nimport random\nn=random.randint(0,4)\np=random.randint(0,4)\ndisplay.set_pixel(n, p, 9)",
      "execution_count": null,
      "outputs": []
    },
    {
      "metadata": {},
      "cell_type": "markdown",
      "source": "Tester le programme précédent plusieurs fois de suite. Pour cela, redémarrer la micro:bit en appuyant sur le bouton `RESET` situé à l'arrière de la carte.\n\n**Exercice 7:** Ecrire un programme ci-dessous qui allume successivement et indéfiniment des pixels au hasard à l'écran."
    },
    {
      "metadata": {
        "trusted": true
      },
      "cell_type": "code",
      "source": "# Ecrire votre programme ici\n# Correction\nfrom microbit import *\nimport random\nwhile True:\n    n=random.randint(0,4)\n    p=random.randint(0,4)\n    display.set_pixel(n, p, 9)\n    sleep(500)\n    display.clear()",
      "execution_count": null,
      "outputs": []
    },
    {
      "metadata": {},
      "cell_type": "markdown",
      "source": "**Exercice 8:** Ecrire ci-dessous un programme qui fait clignoter un coeur indéfiniment (voir illustration ci-dessous)."
    },
    {
      "metadata": {
        "trusted": true
      },
      "cell_type": "code",
      "source": "# Illustration du résultat recherché\nfrom IPython.display import IFrame\nIFrame('https://makecode.microbit.org/---run?id=_RDdU5qgo0Cf7', width=200, height=200)",
      "execution_count": 2,
      "outputs": [
        {
          "output_type": "execute_result",
          "execution_count": 2,
          "data": {
            "text/html": "\n        <iframe\n            width=\"200\"\n            height=\"200\"\n            src=\"https://makecode.microbit.org/---run?id=_RDdU5qgo0Cf7\"\n            frameborder=\"0\"\n            allowfullscreen\n        ></iframe>\n        ",
            "text/plain": "<IPython.lib.display.IFrame at 0x7f6a0f8e4d68>"
          },
          "metadata": {}
        }
      ]
    },
    {
      "metadata": {
        "trusted": true
      },
      "cell_type": "code",
      "source": "# Ecrire votre programme ici\n# Correction\nfrom microbit import *\nwhile True:\n    display.show(Image.HEART)\n    sleep(500)\n    display.clear()\n    sleep(500)",
      "execution_count": null,
      "outputs": []
    },
    {
      "metadata": {},
      "cell_type": "markdown",
      "source": "#### Créer une animation\nEn affichant plusieurs images successives, on peut réaliser une animation."
    },
    {
      "metadata": {},
      "cell_type": "markdown",
      "source": "**Exercice 9:** Ecrire un programme qui réalise l'animation suivante:"
    },
    {
      "metadata": {
        "trusted": true
      },
      "cell_type": "code",
      "source": "# Illustration du résultat recherché\nfrom IPython.display import IFrame\nIFrame('https://makecode.microbit.org/---run?id=_4xi7Ct2DzWXK', width=200, height=200)",
      "execution_count": 1,
      "outputs": [
        {
          "output_type": "execute_result",
          "execution_count": 1,
          "data": {
            "text/html": "\n        <iframe\n            width=\"200\"\n            height=\"200\"\n            src=\"https://makecode.microbit.org/---run?id=_4xi7Ct2DzWXK\"\n            frameborder=\"0\"\n            allowfullscreen\n        ></iframe>\n        ",
            "text/plain": "<IPython.lib.display.IFrame at 0x7f6a0f44db70>"
          },
          "metadata": {}
        }
      ]
    },
    {
      "metadata": {
        "trusted": true
      },
      "cell_type": "code",
      "source": "# Ecrire votre programme ici\n# Correction\nfrom microbit import *\nimage1= Image(\"00000:\"\n              \"00000:\"\n              \"00900:\"\n              \"00000:\"\n              \"00000:\")\n\nimage2= Image(\"00000:\"\n              \"00900:\"\n              \"09090:\"\n              \"00900:\"\n              \"00000:\")\n\nimage3= Image(\"09990:\"\n              \"90009:\"\n              \"90009:\"\n              \"90009:\"\n              \"09990:\")\n\nimage4= Image(\"00000:\"\n              \"00000:\"\n              \"00000:\"\n              \"00000:\"\n              \"00000:\")\n\nwhile True:\n    display.show(image1)\n    sleep(300)\n    display.show(image2)\n    sleep(300)\n    display.show(image3)\n    sleep(300)\n    display.show(image4)\n    sleep(500)",
      "execution_count": null,
      "outputs": []
    },
    {
      "metadata": {},
      "cell_type": "markdown",
      "source": "## 3.3 Boucle `for`"
    },
    {
      "metadata": {},
      "cell_type": "markdown",
      "source": "Le programme suivant utilise une boucle `for` pour faire défiler un pixel sur une ligne:"
    },
    {
      "metadata": {
        "trusted": true
      },
      "cell_type": "code",
      "source": "from microbit import *\nwhile True:\n    for i in range(5):\n        display.set_pixel(i,0,9)\n        sleep(200)\n        display.clear()",
      "execution_count": null,
      "outputs": []
    },
    {
      "metadata": {},
      "cell_type": "markdown",
      "source": "**Exercice 10 *(la double boucle)*:** S'inspirer du programme précédent pour réaliser un programme ci-dessous qui fait défiler un pixel sur tout l'écran."
    },
    {
      "metadata": {
        "trusted": true
      },
      "cell_type": "code",
      "source": "# Ecrire votre programme ici\n# Correction\nfrom microbit import *\nwhile True:\n    for i in range(5):\n        for j in range(5):\n            display.set_pixel(i,j,9)\n            sleep(300)\n            display.clear()",
      "execution_count": null,
      "outputs": []
    },
    {
      "metadata": {},
      "cell_type": "markdown",
      "source": "## 3.4 Les entrées boutons A, B et A+B - programmation événementielle [(vidéo explicative)](https://youtu.be/t_Qujjd_38o)\n<div style=\"text-align:center\">\n    <img src=\"https://microbit.org/images/microbit-features-buttons.png\" width=\"15%\" style=\"display:inline-block; margin-top:10px !important\"/>\n</div>\n Il y a deux boutons sur la face avant du micro:bit (étiquetés A et B). On peut détecter quand ces boutons sont pressés, ce qui permet de déclencher un code sur l'appareil."
    },
    {
      "metadata": {},
      "cell_type": "markdown",
      "source": "Exemples avec le boutton A:\n- `button_a.is_pressed()`: renvoie *True* si le bouton spécifié est actuellement enfoncé et *False* sinon.\n- `button_a.was_pressed()`: renvoie *True* ou *False* pour indiquer si le bouton a été appuyé depuis le démarrage de l'appareil ou la dernière fois que cette méthode a été appelée.\n- `button_a.get_presses()`: renvoie le nombre de fois où le bouton a été appuyé depuis le démarrage ou la dernière fois que la méthode a été appelée et réinitialise ce total à zéro."
    },
    {
      "metadata": {},
      "cell_type": "markdown",
      "source": "**Exemple :** Le programme suivant fait défiler le texte \"SNT\" indéfiniment. On introduit l'**instruction conditionnelle** `if` qui va tester si le bouton A a été pressé (pendant le défilement du texte ou pendant la pause), auquel cas le programme s'arrête en exécutant la commande `break`."
    },
    {
      "metadata": {
        "trusted": true
      },
      "cell_type": "code",
      "source": "from microbit import *\nwhile True:\n    display.scroll(\"SNT\")\n    sleep(200)\n    if button_a.was_pressed():\n        break",
      "execution_count": null,
      "outputs": []
    },
    {
      "metadata": {},
      "cell_type": "markdown",
      "source": "#### Instructions conditionnelles `if`, `elif`, `else`\nVoici comment se structure une instruction conditionnelle. Selon la situation, il n'est pas forcément nécessaire d'utiliser `elif` ou `else`."
    },
    {
      "metadata": {
        "trusted": true
      },
      "cell_type": "code",
      "source": "if quelque chose est vrai (``True``):\n    # fais un truc\nelif autre chose est vrai (``True``):\n    # fais un autre truc\nelse:\n    # fais encore autre chose.",
      "execution_count": null,
      "outputs": []
    },
    {
      "metadata": {
        "trusted": true
      },
      "cell_type": "markdown",
      "source": "**Exercice 11 :** *Pierre feuille ciseaux!* Compléter le programme suivant dans lequel une pression simultanée sur les boutons A et B affichera une image de ciseaux. Sinon si, une pression sur le bouton A affichera une image de pierre. Sinon si, une pression sur le bouton B affichera une image de feuille. Il faudra créer vous-même l'image de la *pierre* et de la *feuille* avec un temps d'affichage de 0.5 seconde."
    },
    {
      "metadata": {},
      "cell_type": "markdown",
      "source": "Voici pour exemple une illustration du résultat recherché: dans le simulateur suivant, clique sur le bouton A, le bouton B et le bouton qui simule la pression simultanée des boutons A et B."
    },
    {
      "metadata": {
        "trusted": true
      },
      "cell_type": "code",
      "source": "# Illustration du résultat recherché\nfrom IPython.display import IFrame\nIFrame('https://makecode.microbit.org/---run?id=_LYvH1C4LK2CT', width=200, height=200)",
      "execution_count": 3,
      "outputs": [
        {
          "output_type": "execute_result",
          "execution_count": 3,
          "data": {
            "text/html": "\n        <iframe\n            width=\"200\"\n            height=\"200\"\n            src=\"https://makecode.microbit.org/---run?id=_LYvH1C4LK2CT\"\n            frameborder=\"0\"\n            allowfullscreen\n        ></iframe>\n        ",
            "text/plain": "<IPython.lib.display.IFrame at 0x7f6a0f4742e8>"
          },
          "metadata": {}
        }
      ]
    },
    {
      "metadata": {
        "trusted": true
      },
      "cell_type": "code",
      "source": "# Ecrire votre programme ici\n# Correction\nfrom microbit import *\n\n#pierre = Image(\"00900:\"\n#               \"09990:\"\n#               \"99999:\"\n#               \"09990:\"\n#               \"00900:\")\n\n#feuille = Image(\"99999:\"\n#                \"99999:\"\n#                \"99999:\"\n#                \"99999:\"\n#                \"99999:\")\n\nciseaux = Image(\"99009:\"\n                \"99090:\"\n                \"00900:\"\n                \"99090:\"\n                \"99009:\")\n\nwhile True:\n    if button_a.is_pressed() and button_b.is_pressed():\n        display.show(ciseaux)\n        sleep(500)\n    elif button_a.is_pressed():\n        display.show(pierre)\n        sleep(500)\n    elif button_b.is_pressed():\n        display.show(feuille)\n        sleep(500)\n    display.clear()\n    sleep(100)",
      "execution_count": null,
      "outputs": []
    },
    {
      "metadata": {
        "trusted": true
      },
      "cell_type": "markdown",
      "source": "## 3.5 Capteur de lumière [(vidéo)](https://youtu.be/TKhCr-dQMBY)\n<div style=\"text-align:center\">\n    <img src=\"https://microbit.org/images/microbit-features-light.png\" width=\"15%\" style=\"display:inline-block; margin-top:10px !important\"/>\n</div>\nEn inversant les LEDs d'un écran pour devenir un point d'entrée, l'écran LED devient un capteur de lumière basique, permettant de détecter la luminosité ambiante.\n\nLa commande `display.read_light_level()` retourne un entier compris entre 0 et 255 représentant le niveau de lumière."
    },
    {
      "metadata": {},
      "cell_type": "markdown",
      "source": "**Exercice 12:** Ecrire un programme ci-dessous qui affiche une lune si on baisse la luminosité (en recouvrant la carte avec sa main par exemple) et un soleil sinon."
    },
    {
      "metadata": {
        "trusted": true
      },
      "cell_type": "code",
      "source": "# Ecrire votre programme ici\n# Correction\nfrom microbit import *\n\nsoleil = Image(\"90909:\"\n               \"09990:\"\n               \"99999:\"\n               \"09990:\"\n               \"90909:\")\n\nlune = Image(\"00999:\"\n             \"09990:\"\n             \"09900:\"\n             \"09990:\"\n             \"00999:\")\n\nwhile True:\n    if display.read_light_level()>30:\n        display.show(soleil)\n    else:\n        display.show(lune)\n    sleep(10)",
      "execution_count": null,
      "outputs": []
    },
    {
      "metadata": {},
      "cell_type": "markdown",
      "source": "**Prolongement:** créer un programme qui affiche le niveau de luminosité et le tester avec la LED d'un téléphone portable ou une lampe-torche par exemple. Plus la luminosité sera élevée, plus il y aura de LEDs affichées sur la matrice."
    },
    {
      "metadata": {},
      "cell_type": "markdown",
      "source": "## 3.6 Capteur de température [(vidéo)](https://youtu.be/_T4N8O9xsMA)\n<div style=\"text-align:center\">\n    <img src=\"https://microbit.org/images/microbit-features-temp.png\" width=\"20%\" style=\"display:inline-block; margin-top:10px !important\"/>\n</div>\nLe micro:bit n’a pas un capteur de température dédié. Au lieu de cela, la température fournie est en fait la température de la puce de silicium du processeur principal. Comme le processeur chauffe peu en fonctionnement (c'est un processeur ARM à grande efficacité), sa température est une bonne approximation de la température ambiante.\nL'instruction `temperature()` renvoie la température de la carte micro:bit en degrés Celsius."
    },
    {
      "metadata": {},
      "cell_type": "markdown",
      "source": "**Exercice 13:** Ecrire un programme qui affiche la température."
    },
    {
      "metadata": {
        "trusted": true
      },
      "cell_type": "code",
      "source": "# Ecrire votre programme ici\n# Correction\nfrom microbit import *\n\nwhile True:\n    sleep(3000)\n    display.scroll(temperature())",
      "execution_count": null,
      "outputs": []
    },
    {
      "metadata": {},
      "cell_type": "markdown",
      "source": "## 3.7 Accéléromètre [(vidéo)](https://youtu.be/byngcwjO51U)\n<div style=\"text-align:center\">\n    <img src=\"https://microbit.org/images/microbit-features-accelerometer.png\" width=\"20%\" style=\"display:inline-block; margin-top:10px !important\"/>\n</div>\nUn accéléromètre mesure l'accélération de la carte micro:bit, ce composant détecte quand la micro:bit est en mouvement. Il peut aussi détecter d'autres actions (gestes), par exemple quand elle est secouée, inclinée ou qu'elle tombe.\n\nSi tu t’es déjà demandé comment un téléphone portable sait dans quel sens afficher les images sur son écran, c’est parce qu’il utilise un accéléromètre. Les manettes de jeux contiennent aussi des accéléromètres pour t’aider à tourner et à te déplacer dans les jeux."
    },
    {
      "metadata": {},
      "cell_type": "markdown",
      "source": "La carte micro:bit est munie d’un accéléromètre. Il mesure le mouvement selon trois axes :\n\n- X - l’inclinaison de gauche à droite.\n- Y - l’inclinaison d’avant en arrière.\n- Z - le mouvement haut et bas.\n\nDans l'exemple suivant, l'instruction `accelerometer.get_x()` permet de détecter un mouvement de gauche à droite en renvoyant un nombre compris entre -1023 et 1023; 0 étant la position \"d'équilibre\""
    },
    {
      "metadata": {
        "trusted": true
      },
      "cell_type": "code",
      "source": "#Exemple\nfrom microbit import *\n\nwhile True:\n    abscisse = accelerometer.get_x()\n    if abscisse > 500:\n        display.show(Image.ARROW_E)\n    elif abscisse < -500:\n        display.show(Image.ARROW_W)\n    else:\n        display.show(\"-\")",
      "execution_count": null,
      "outputs": []
    },
    {
      "metadata": {},
      "cell_type": "markdown",
      "source": "**Exercice 14:** Compléter le programme suivant pour obtenir le résultat illustré dans le simulateur (survole le simulateur pour observer le résultat souhaité)."
    },
    {
      "metadata": {
        "trusted": true
      },
      "cell_type": "code",
      "source": "# Illustration du résultat recherché\nfrom IPython.display import IFrame\nIFrame('https://makecode.microbit.org/---run?id=_d1HLyAa03Xdh', width=200, height=200)",
      "execution_count": 1,
      "outputs": [
        {
          "output_type": "execute_result",
          "execution_count": 1,
          "data": {
            "text/html": "\n        <iframe\n            width=\"200\"\n            height=\"200\"\n            src=\"https://makecode.microbit.org/---run?id=_d1HLyAa03Xdh\"\n            frameborder=\"0\"\n            allowfullscreen\n        ></iframe>\n        ",
            "text/plain": "<IPython.lib.display.IFrame at 0x7f0df5c8dba8>"
          },
          "metadata": {}
        }
      ]
    },
    {
      "metadata": {
        "trusted": true
      },
      "cell_type": "code",
      "source": "# Correction\nfrom microbit import *\n\nwhile True:\n    abscisse = accelerometer.get_x()\n    ordonnee = accelerometer.get_y()\n    if abscisse > 500:\n        display.show(Image.ARROW_E)\n    elif abscisse < -500:\n        display.show(Image.ARROW_W)\n#    elif ordonnee > 500:\n#        display.show(Image.ARROW_S)\n#    elif ordonnee < -500:\n#        display.show(Image.ARROW_N)\n    else:\n        display.show(\"-\")",
      "execution_count": null,
      "outputs": []
    },
    {
      "metadata": {},
      "cell_type": "markdown",
      "source": "**Prolongement (*secouer les dés!*):** Ecrire un programme qui simule un dé en affichant une face au hasard lorsque la micro:bit est secouée. On pourra utiliser l'instruction `accelerometer.is_gesture(shake)` qui teste si la carte est secouée. Plus d'informations sur les gestes [ici](https://microbit-micropython.readthedocs.io/fr/latest/tutorials/gestures.html)."
    },
    {
      "metadata": {
        "trusted": true
      },
      "cell_type": "code",
      "source": "#Correction\nfrom microbit import *\nimport random\n\nfaces = [Image('00000:00000:00900:00000:00000:'),\n        Image('00009:00000:00000:00000:90000:'),\n        Image('00009:00000:00900:00000:90000:'),\n        Image('90009:00000:00000:00000:90009:'),\n        Image('90009:00000:00900:00000:90009:'),\n        Image('90009:00000:90009:00000:90009:')]\n   \nwhile True:\n    if accelerometer.is_gesture('shake'):\n        display.show(random.choice(faces))",
      "execution_count": null,
      "outputs": []
    },
    {
      "metadata": {},
      "cell_type": "markdown",
      "source": "**Pour le plaisir:** Essayer le jeu d'évitement d'obstacles *\"Simple Slalom\"* utilisant l'accéléromètre. À récupérer [sur cette page](https://microbit-micropython.readthedocs.io/fr/latest/accelerometer.html)."
    },
    {
      "metadata": {},
      "cell_type": "markdown",
      "source": "## 3.8 Boussole\n<div style=\"text-align:center\">\n    <img src=\"https://microbit.org/images/microbit-features-compass.png\" width=\"15%\" style=\"display:inline-block; margin-top:10px !important\"/>\n</div>\nLa boussole détecte le champ magnétique de la Terre, nous permettant de savoir quelle direction la micro:bit indique. La boussole doit être étalonnée avant de pouvoir être utilisée. Pour cela, on utilise `compass.calibrate()` qui exécute un petit jeu: au départ, micro:bit fait défiler \"Tilt to fill screen\". Ensuite, incliner micro:bit pour déplacer le point au centre de l’écran autour jusqu'à ce que vous ayez rempli la totalité de l’écran.\n\nLa fonction `compass.heading()` donne le cap de la boussole sous la forme d'un entier compris entre 0 et 360, représentant l'angle en degrés, dans le sens des aiguilles d'une montre, avec le nord égal à 0."
    },
    {
      "metadata": {},
      "cell_type": "markdown",
      "source": "**Exercice 15:** Ecrire un programme qui indique le Nord."
    },
    {
      "metadata": {
        "trusted": true
      },
      "cell_type": "code",
      "source": "# Ecrire votre programme ici\n# Correction\nfrom microbit import *\n\ncompass.calibrate()\n\nwhile True:\n    if compass.heading() < 10 or compass.heading() > 350:\n        display.show(Image.ARROW_N)\n    else:\n        display.show(Image.DIAMOND_SMALL)",
      "execution_count": null,
      "outputs": []
    },
    {
      "metadata": {},
      "cell_type": "markdown",
      "source": "**Prolongements:** Améliorer le programme pour que le micro:bit indique \"N\", \"S\", \"E\" et \"O\" en fonction de l'orientation de la boussole. Autre prolongement: fabriquer une station météo qui détermine la direction du vent. Ou encore étudier l'intensité du champ magnétique autour du périphérique (en utilisant la fonction `compass.get_field_strength()`). Plus d'informations sur les fonctions \"boussole\" [ici](https://microbit-micropython.readthedocs.io/en/latest/compass.html)."
    },
    {
      "metadata": {
        "trusted": true
      },
      "cell_type": "markdown",
      "source": "# 4. IHM (Interface homme-machine)\n<img src=\"https://1formatheur.github.io/img/ihm.jpg\" alt=\"Bouton de Mu pour flasher micro:bit\" width=30%>"
    },
    {
      "metadata": {
        "trusted": true
      },
      "cell_type": "markdown",
      "source": "**Une IHM est un dispositif avec lequel l'humain peut envoyer ou récupérer de l'information avec l'objet connecté.**\n\nNotre IHM consistera en une fenêtre permettant l'acquisition de données provenant de la carte micro:bit et permettant également de transmettre des informations à la carte."
    },
    {
      "metadata": {},
      "cell_type": "markdown",
      "source": "## 4.1 La carte transmet sa température (programme \"PRG1\")"
    },
    {
      "metadata": {},
      "cell_type": "markdown",
      "source": "Le programme suivant appelé ***\"PRG1\"*** affiche la température sur la matrice mais surtout **envoie la valeur de la variable \"temp\" et donc sa température à l'ordinateur via l'instruction `print(temp)`**."
    },
    {
      "metadata": {
        "trusted": true
      },
      "cell_type": "code",
      "source": "# PRG1 à flasher dans la micro:bit (cliquer sur \"Flasher\")\n# Programme à flasher avec le logiciel Mu en mode \"BBC micro:bit\"\n\nfrom microbit import *     # Importe la bibliothèque microbit\n    \nwhile True:     # Boucle infinie\n    temp=temperature()     # Initialise la variable temp à la valeur de la température \n    display.scroll(temp)   # Affiche la température sur le microbit\n    print(temp)            # Transmet la valeur de la variable à l'ordinateur",
      "execution_count": null,
      "outputs": []
    },
    {
      "metadata": {},
      "cell_type": "markdown",
      "source": "**Cliquer sur le bouton `Flasher` du logiciel Mu pour téléverser et exécuter le programme dans la micro:bit** (le logiciel Mu doit être en mode \"BBC micro:bit\", voir 2.2.2)."
    },
    {
      "metadata": {},
      "cell_type": "markdown",
      "source": "## 4.2 L'ordinateur reçoit et affiche la température"
    },
    {
      "metadata": {},
      "cell_type": "markdown",
      "source": ">Pour créer l'IHM, nous allons utiliser la bibliothèque Python ***tkinter*** qui va nous permettre de **construire une fenêtre pour interagir avec la micro:bit**.\n\n>Nous utiliserons également la bibliothèque ***serial*** pour **gérer les entrées/sorties à travers les ports utilisés par le système**."
    },
    {
      "metadata": {},
      "cell_type": "markdown",
      "source": "### 4.2.1 Identifier le port série (*port COM*) dédié à la micro:bit\nPour récupérer la valeur de la température, on va utiliser le port série (port USB de l’ordinateur).\nIl faut trouver le numéro de port sur lequel la micro:bit est branchée pour pouvoir communiquer."
    },
    {
      "metadata": {},
      "cell_type": "markdown",
      "source": "#### Sur Windows:\nOuvrir l'invite de commande en tapant **cmd** dans la barre de recherche windows.\n<img src=\"https://1formatheur.github.io/img/cmd.png\" alt=\"invite de commande\" width=60%>\nTaper **Mode** pour avoir la liste des périphériques branchés à l’ordinateur\n<img src=\"https://1formatheur.github.io/img/modecom.png\" alt=\"Mode pour port COM\" width=20%>\n(COM1 et COM 2 sont parfois la souris et le clavier)\n#### Sur MacOS:\nOuvrir le Terminal et saisir la commande: \"ls /dev/tty.usb*\n\nVotre port devrait apparaitre sous la forme: \"/dev/tty.usbmodem14102\""
    },
    {
      "metadata": {},
      "cell_type": "markdown",
      "source": "### 4.2.2 Mettre le logiciel Mu en mode \"Python 3\"\n<img src=\"https://1formatheur.github.io/img/logiciel_mu_mode_python3.png\" alt=\"Logiciel Mu en mode micro:bit\" width=30% >"
    },
    {
      "metadata": {},
      "cell_type": "markdown",
      "source": "### 4.2.3 Exécuter le programme créant l'IHM ci-dessous (programme \"PRG2\")"
    },
    {
      "metadata": {
        "trusted": true
      },
      "cell_type": "code",
      "source": "# PRG2\n# Programme à exécuter avec le logiciel Mu en mode \"Python 3\" (cliquer sur \"Lancer\")\n\nimport serial               # Importe la bibliothèque serial\nfrom tkinter import *       # Importe la bibliothèque tkinter\nport = \"votre port\"         # \"COM6\" par exemple pour Windows ou \"/dev/tty.usbmodem14102\" sur Mac\nser = serial.Serial(port)   # Déclaration de la variable ser qui ouvre le port série\nser.baudrate = 115200       # Vitesse de transmission\n\ndata = ser.readline()           # On lit sur le port série ce qui est envoyé par la micro:bit et on le stocke dans la variable data\nma_fenetre = Tk()               # On crée une fenêtre qui sert d'interface avec la carte\nma_fenetre.geometry(\"400x300\")  # Fixe la taille de la fenêtre\nma_fenetre.title(\"IHM\")         # Donne un titre à la fenêtre\naffich_temp = Label(ma_fenetre, text=data, font=(\"arial\", 70), fg=\"green\")  # Crée le texte qui sera affiché dans la fenêtre\naffich_temp.pack()              # Positionne ce texte dans notre fenêtre\nma_fenetre.mainloop()           # Pour que la fenêtre reste ouverte",
      "execution_count": null,
      "outputs": []
    },
    {
      "metadata": {},
      "cell_type": "markdown",
      "source": "#### Une fenêtre s'ouvre affichant la température lue par la carte.\n<img src=\"https://1formatheur.github.io/img/temp.png\" alt=\"IHM affichant la température\" width=25% >"
    },
    {
      "metadata": {
        "trusted": true
      },
      "cell_type": "markdown",
      "source": "**Exercice 16:** Recopier le programme précédent ci-dessous puis modifier les paramètres de la fenêtre IHM (modifier les dimensions, le titre, la police de caractères, la taille de la police, la couleur de la police...)."
    },
    {
      "metadata": {
        "trusted": true
      },
      "cell_type": "code",
      "source": "# Ecrire votre programme ici\n# Correction\n\n# PRG2\n# Programme à exécuter avec le logiciel Mu en mode \"Python 3\" (cliquer sur \"Lancer\")\n\nimport serial               # Importe la bibliothèque serial\nfrom tkinter import *       # Importe la bibliothèque tkinter\nport = \"votre port\"         # \"COM6\" par exemple pour Windows ou \"/dev/tty.usbmodem14102\" sur Mac\nser = serial.Serial(port)   # Déclaration de la variable ser qui ouvre le port série\nser.baudrate = 115200       # Vitesse de transmission\n\ndata = ser.readline()           # On lit sur le port série ce qui est envoyé par la micro:bit et on le stocke dans la variable data\nma_fenetre = Tk()               # On crée une fenêtre qui sert d'interface avec la carte\nma_fenetre.geometry(\"300x200\")  # Fixe la taille de la fenêtre\nma_fenetre.title(\"IHM\")         # Donne un titre à la fenêtre\naffich_temp = Label(ma_fenetre, text=data, font=(\"times\", 50), fg=\"red\")  # Crée une zone de texte (\"label\") affichée dans la fenêtre\naffich_temp.pack()              # Positionne ce texte dans notre fenêtre\nma_fenetre.mainloop()           # Pour que la fenêtre reste ouverte",
      "execution_count": null,
      "outputs": []
    },
    {
      "metadata": {},
      "cell_type": "markdown",
      "source": "**Exercice 17:** Modifier le programme \"PRG1\" (côté carte) pour que la fenêtre affiche cette fois **le niveau de luminosité** (de 0 à 255) lu par la carte (voir le point \"3.5 Capteur de lumière\"). Il n'est pas nécessaire de modifier le PRG2 côté ordinateur."
    },
    {
      "metadata": {
        "trusted": true
      },
      "cell_type": "code",
      "source": "# Ecrire votre nouveau \"PRG1\" ici\n# Correction\n\nfrom microbit import *     # Importe la bibliothèque microbit\n    \nwhile True:     # Boucle infinie\n    lumi=display.read_light_level()     # Initialise la variable lumi à la valeur du capteur de lumière de la carte\n    display.scroll(lumi)                # Affiche la valeur de la variable sur la carte\n    print(lumi)                         # Transmet la valeur de la variable à l'ordinateur",
      "execution_count": null,
      "outputs": []
    },
    {
      "metadata": {
        "trusted": true
      },
      "cell_type": "markdown",
      "source": "## 4.3 Réalisation d'une IHM plus complexe\n<img src=\"https://1formatheur.github.io/img/IHM.png\" alt=\"IHM\" width=25% >\nNous allons ajouter un **bouton pour récupérer la température** fournie par la carte et un **champ de saisie de texte** pour qu'il soit affiché sur la carte. Pour cela, nous allons utiliser les programmes *PRG1* et *PRG2* suivants."
    },
    {
      "metadata": {},
      "cell_type": "markdown",
      "source": "### PRG1 à flasher dans la carte micro:bit"
    },
    {
      "metadata": {
        "trusted": true
      },
      "cell_type": "code",
      "source": "# PRG1 à flasher dans la micro:bit (cliquer sur \"Flasher\")\n# Programme à flasher avec le logiciel Mu en mode \"BBC micro:bit\"\n\nfrom microbit import *\n\nuart.init(baudrate=115200)               # Vitesse de transfert\n\ndisplay.scroll('Pret')                   # La carte affiche \"pret\"\n\nwhile True:\n    if uart.any():                       # Si la carte reçoit une transmission de l'ordinateur\n        message = uart.read()            # On stocke la valeur dans la variable \"message\"\n        if message == b'temperature':    # Si la valeur est \"temperature\",\n            temp = temperature()\n            print(temp)                  # La carte envoie la valeur de la température à l'ordinateur\n            display.scroll(temp)         # La carte affiche la température sur sa matrice\n        elif message == b'pacman':       # Sinon si le message reçu est \"pacman\"\n            display.show(Image.PACMAN)   # La carte affiche l'image de Pacman\n        else:                            # Sinon enfin\n            textedefil = str(message, 'UTF-8')     # Transforme le message en chaîne de caractères\n            display.scroll(textedefil, delay=80)   # La carte affiche le message reçu sous forme de texte défilant\n    sleep(1000)",
      "execution_count": null,
      "outputs": []
    },
    {
      "metadata": {
        "trusted": true
      },
      "cell_type": "markdown",
      "source": "### PRG2 à lancer dans l'ordinateur"
    },
    {
      "metadata": {
        "trusted": true
      },
      "cell_type": "code",
      "source": "# PRG2\n# Programme à exécuter avec le logiciel Mu en mode \"Python 3\" (cliquer sur \"Lancer\")\n\nimport serial, time\n\nfrom tkinter import *\n\nport = \"votre port\"         # \"COM6\" par exemple pour Windows ou \"/dev/tty.usbmodem14102\" sur Mac\nbaud = 115200\ns = serial.Serial(port)\ns.baudrate = baud\n\n\ndef demande_temperature():           # Fonction pour demander la température à la carte micro:bit\n    s.write(b'temperature')\n    data = s.readline()\n    data = int(data[0:4])\n    print(data)\n    texte_temperature.set(\"Température : \"+str(data))\n\ndef envoie_message():                # Fonction pour envoyer un message à faire défiler sur la matrice de la carte\n    message_bytes = bytes(texte_message.get(), 'utf-8')\n    s.write(message_bytes)\n\ndef quitter():         # Fonction pour fermer la fenêtre d'interface\n    s.close()\n    ma_fenetre.destroy()\n\n\n# Fenêtre principale\nma_fenetre = Tk()\nma_fenetre.title(\"IHM\")\nma_fenetre.geometry(\"300x200\")\n\n# Création d'un bouton pour recuperer la temperature\nbutton_temperature = Button(ma_fenetre, text=\"Temperature\", command=demande_temperature)\nbutton_temperature.grid(row=1, column=0, padx=5, pady=5)\n\n# Creation d'un label pour afficher la temperature\ntexte_temperature = StringVar()\ntexte_temperature.set(\"Température : \")\nlabel_temperature = Label(ma_fenetre, textvariable=texte_temperature , bg=\"grey\")\nlabel_temperature.grid(row=1, column=1, padx=5, pady=5)\n\n# Création d'un bouton pour envoyer un message\nbutton_message = Button(ma_fenetre, text =\"Envoyer\", command=envoie_message)\nbutton_message.grid(row=2, column=1, padx=5, pady=50)\n\n# Création d'un champ de saisie d'un message\ntexte_message = StringVar()\ntexte_message.set('Iaorana')\nchamp_message = Entry(ma_fenetre, textvariable=texte_message, bg=\"bisque\", fg=\"maroon\", width=\"20\")\nchamp_message.focus_set()\nchamp_message.grid(row=2, column=0, padx=5, pady=5)\n\n# Création d'un bouton Quitter\nbutton_quitter = Button(ma_fenetre, text=\"Quitter\", command=quitter)\nbutton_quitter.grid(row=3,column=0, padx=5, pady=5)\n\nma_fenetre.mainloop()",
      "execution_count": null,
      "outputs": []
    },
    {
      "metadata": {},
      "cell_type": "markdown",
      "source": "#### Vérifier le bon fonctionnement des programmes précédents en testant l'interface.\n**Question:** Que se passe-t-il lorsqu'on envoie le texte \"pacman\" via le champ de saisie de l'interface?"
    },
    {
      "metadata": {},
      "cell_type": "markdown",
      "source": "**Exercice 18:** Ajouter un bouton \"Luminosité\" à l'IHM qui récupère l'intensité de la luminosité lue par le capteur de luminosité de la carte. On pourra prendre exemple sur le bouton \"Température\"."
    },
    {
      "metadata": {
        "trusted": true
      },
      "cell_type": "markdown",
      "source": "# SOLUTION:\n<img src=\"https://1formatheur.github.io/img/IHM2.png\" alt=\"IHM 2\" width=25% >"
    },
    {
      "metadata": {
        "trusted": true
      },
      "cell_type": "code",
      "source": "# PRG1 à flasher dans la micro:bit (cliquer sur \"Flasher\")\n# Programme à flasher avec le logiciel Mu en mode \"BBC micro:bit\"\n\nfrom microbit import *\n\nuart.init(baudrate=115200)               # Vitesse de transfert\n\ndisplay.scroll('Pret')                   # La carte affiche \"pret\"\n\nwhile True:\n    if uart.any():                       # Si la carte reçoit une transmission de l'ordinateur\n        message = uart.read()            # On stocke la valeur dans la variable \"message\"\n        if message == b'temperature':    # Si la valeur est \"temperature\",\n            temp = temperature()\n            print(temp)                  # La carte envoie la valeur de la température à l'ordinateur\n            display.scroll(temp)         # La carte affiche la température sur sa matrice\n        elif message == b'luminosite':\n            lumi = display.read_light_level()\n            print(lumi)\n            display.scroll(lumi)\n        elif message == b'pacman':       # Sinon si le message reçu est \"pacman\"\n            display.show(Image.PACMAN)   # La carte affiche l'image de Pacman\n        else:                            # Sinon enfin\n            textedefil = str(message, 'UTF-8')     # Transforme le message en chaîne de caractères\n            display.scroll(textedefil, delay=80)   # La carte affiche le message reçu sous forme de texte défilant\n    sleep(1000)",
      "execution_count": null,
      "outputs": []
    },
    {
      "metadata": {
        "trusted": true
      },
      "cell_type": "code",
      "source": "# PRG2\n# Programme à exécuter avec le logiciel Mu en mode \"Python 3\" (cliquer sur \"Lancer\")\n\nimport serial, time\n\nfrom tkinter import *\n\nport = \"votre port\"         # \"COM6\" par exemple pour Windows ou \"/dev/tty.usbmodem14102\" sur Mac\nbaud = 115200\ns = serial.Serial(port)\ns.baudrate = baud\n\n\ndef demande_temperature():           # Fonction pour demander la température à la carte micro:bit\n    s.write(b'temperature')\n    data = s.readline()\n    data = int(data[0:4])\n    print(data)\n    texte_temperature.set(\"Température : \"+str(data))\n\ndef demande_luminosite():\n    s.write(b'luminosite')\n    data = s.readline()\n    data = int(data[0:4])\n    print(data)\n    texte_luminosite.set(\"Luminosité : \"+str(data))\n\ndef envoie_message():                # Fonction pour envoyer un message à faire défiler sur la matrice de la carte\n    message_bytes = bytes(texte_message.get(), 'utf-8')\n    s.write(message_bytes)\n\ndef quitter():         # Fonction pour fermer la fenêtre d'interface\n    s.close()\n    ma_fenetre.destroy()\n\n\n# Fenêtre principale\nma_fenetre = Tk()\nma_fenetre.title(\"IHM\")\nma_fenetre.geometry(\"300x200\")\n\n# Création d'un bouton pour recuperer la temperature\nbutton_temperature = Button(ma_fenetre, text=\"Temperature\", command=demande_temperature)\nbutton_temperature.grid(row=1, column=0, padx=5, pady=5)\n\n# Creation d'un label pour afficher la temperature\ntexte_temperature = StringVar()\ntexte_temperature.set(\"Température : \")\nlabel_temperature = Label(ma_fenetre, textvariable=texte_temperature , bg=\"grey\")\nlabel_temperature.grid(row=1, column=1, padx=5, pady=5)\n\n# Création d'un bouton pour recuperer la luminosité\nbutton_temperature = Button(ma_fenetre, text=\"Luminosite\", command=demande_luminosite)\nbutton_temperature.grid(row=2, column=0, padx=5, pady=5)\n\n# Creation d'un label pour afficher la luminosité\ntexte_luminosite = StringVar()\ntexte_luminosite.set(\"Luminosite: \")\nlabel_luminosite = Label(ma_fenetre, textvariable=texte_luminosite , bg=\"grey\")\nlabel_luminosite.grid(row=2, column=1, padx=5, pady=5)\n\n# Création d'un bouton pour envoyer un message\nbutton_message = Button(ma_fenetre, text =\"Envoyer\", command=envoie_message)\nbutton_message.grid(row=3, column=1, padx=5, pady=50)\n\n# Création d'un champ de saisie d'un message\ntexte_message = StringVar()\ntexte_message.set('Iaorana')\nchamp_message = Entry(ma_fenetre, textvariable=texte_message, bg=\"bisque\", fg=\"maroon\", width=\"20\")\nchamp_message.focus_set()\nchamp_message.grid(row=3, column=0, padx=5, pady=5)\n\n# Création d'un bouton Quitter\nbutton_quitter = Button(ma_fenetre, text=\"Quitter\", command=quitter)\nbutton_quitter.grid(row=4,column=0, padx=5, pady=5)\n\nma_fenetre.mainloop()",
      "execution_count": null,
      "outputs": []
    },
    {
      "metadata": {},
      "cell_type": "markdown",
      "source": "#### ---------------------------------------------------------------------------------------- *Thomas Basso 2019*"
    },
    {
      "metadata": {
        "trusted": false
      },
      "cell_type": "markdown",
      "source": "## Sources\n\nhttps://microbit.org/fr/\n\nhttps://microbit-micropython.readthedocs.io/fr/latest/\n\nhttps://github.com/ericECmorlaix\n\nhttp://www.multiwingspan.co.uk/\n\nhttp://www.laboiteaphysique.fr/\n\nhttps://makecode.microbit.org/\n\nhttp://tableauxmaths.fr/spip/spip.php?article232\n\nhttps://jfsimonblog.wordpress.com/author/simonjeff/"
    }
  ],
  "metadata": {
    "kernelspec": {
      "name": "python36",
      "display_name": "Python 3.6",
      "language": "python"
    },
    "language_info": {
      "mimetype": "text/x-python",
      "nbconvert_exporter": "python",
      "name": "python",
      "pygments_lexer": "ipython3",
      "version": "3.6.6",
      "file_extension": ".py",
      "codemirror_mode": {
        "version": 3,
        "name": "ipython"
      }
    }
  },
  "nbformat": 4,
  "nbformat_minor": 2
}