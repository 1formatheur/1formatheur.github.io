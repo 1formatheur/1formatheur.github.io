{
 "cells": [
  {
   "cell_type": "markdown",
   "metadata": {
    "slideshow": {
     "slide_type": "slide"
    }
   },
   "source": [
    "# SNT - Informatique embarquée et objets connectés\n",
    "## Activité élève BBC micro:bit et python - SOLUTIONS"
   ]
  },
  {
   "cell_type": "markdown",
   "metadata": {
    "slideshow": {
     "slide_type": "slide"
    }
   },
   "source": [
    "# 1. Présentation de la carte BBC micro:bit"
   ]
  },
  {
   "cell_type": "markdown",
   "metadata": {
    "slideshow": {
     "slide_type": "subslide"
    }
   },
   "source": [
    "**BBC micro:bit** est une carte à [microcontrôleur](https://fr.wikipedia.org/wiki/Microcontr%C3%B4leur) conçue en 2015 au Royaume-Uni pour développer l'apprentissage de l'algorithmique et de la programmation. Pourvu de capteurs et d'actionneurs, ce petit ordinateur possède la dernière technologie qui équipe les appareils modernes : téléphones mobiles, réfrigérateurs, montres intelligentes, alarmes antivol, robots, etc..."
   ]
  },
  {
   "cell_type": "markdown",
   "metadata": {
    "slideshow": {
     "slide_type": "subslide"
    }
   },
   "source": [
    "Ainsi, il s'apparente à ce que l'on nomme l'**Internet des objets** : Internet of Things, abrégé **IoT**.\n",
    "\n",
    "<div style=\"text-align:center\">\n",
    "<img src=\"https://microbit.org/images/microbit-front.png\" width=\"20%\" style=\"display:inline-block; margin-top:10px !important\"/>\n",
    "    <img src=\"https://microbit.org/images/microbit-back.png\" width=\"20%\" style=\"display:inline-block; margin-top:10px !important\"/>\n",
    "    </div>"
   ]
  },
  {
   "cell_type": "markdown",
   "metadata": {
    "slideshow": {
     "slide_type": "subslide"
    }
   },
   "source": [
    "La carte micro:bit dispose des [spécificités techniques](https://microbit.org/fr/guide/features/)  suivantes :\n",
    "\n",
    "- 25 LEDs programmables individuellement\n",
    "- 2 boutons programmables\n",
    "- Broches de connexion\n",
    "- Capteurs de lumière et de température\n",
    "- Capteurs de mouvements (accéléromètre et boussole)\n",
    "- Communication sans fil, via Radio et Bluetooth\n",
    "- Interface USB"
   ]
  },
  {
   "cell_type": "markdown",
   "metadata": {
    "slideshow": {
     "slide_type": "slide"
    }
   },
   "source": [
    "# 2. Découverte des fonctionnalités"
   ]
  },
  {
   "cell_type": "markdown",
   "metadata": {
    "slideshow": {
     "slide_type": "slide"
    }
   },
   "source": [
    "##  2.1 Commandes de base de l'afficheur, matrice de 5x5 LEDs [voir vidéo explicative (en anglais)](https://youtu.be/qqBmvHD5bCw)\n",
    "<div style=\"text-align:center\">\n",
    "    <img src=\"https://microbit.org/images/beating-heart.gif\" width=\"25%\" style=\"display:inline-block; margin-top:10px !important\"/>\n",
    "</div>\n",
    "LED signifie Light Emitting Diode, Diode électroluminescente. La carte micro:bit en dispose de 25, toutes programmables individuellement, ce qui permet d'afficher du texte, des nombres et des images."
   ]
  },
  {
   "cell_type": "markdown",
   "metadata": {
    "slideshow": {
     "slide_type": "fragment"
    }
   },
   "source": [
    "### 2.1.1 Afficher un texte \"défilant\" `display.scroll(string, delay=400)`\n",
    "Nous allons commencer par afficher quelques informations sur l'afficheur."
   ]
  },
  {
   "cell_type": "code",
   "execution_count": null,
   "metadata": {
    "slideshow": {
     "slide_type": "subslide"
    }
   },
   "outputs": [],
   "source": [
    "from microbit import *\n",
    "display.scroll(\"SNT\")"
   ]
  },
  {
   "cell_type": "markdown",
   "metadata": {
    "slideshow": {
     "slide_type": "fragment"
    }
   },
   "source": [
    "La première ligne de ce programme importe la bibliothèque de fonctions micro:bit. La deuxième ligne fait défiler un message à l’écran. Cela n'arrive qu'une seule fois.\n",
    "\n",
    "**Exercice 1:** Modifier le programme précédent pour qu'il affiche le texte de ton choix.\n",
    "\n",
    "La vitesse de défilement peut être ralentie ou accélérée à l'aide du paramètre `delay`. Plus le nombre est grand, plus le défilement est lent."
   ]
  },
  {
   "cell_type": "code",
   "execution_count": null,
   "metadata": {
    "slideshow": {
     "slide_type": "subslide"
    }
   },
   "outputs": [],
   "source": [
    "from microbit import *\n",
    "display.scroll(\"IL ETAIT UNE FOIS...\", delay=20)"
   ]
  },
  {
   "cell_type": "markdown",
   "metadata": {
    "slideshow": {
     "slide_type": "fragment"
    }
   },
   "source": [
    "**Exercice 2**: Le défilement de la phrase du programme ci-dessus est trop rapide pour pouvoir la lire correctement. Modifie la valeur du paramètre `delay` pour qu'on puisse la lire facilement."
   ]
  },
  {
   "cell_type": "markdown",
   "metadata": {
    "slideshow": {
     "slide_type": "subslide"
    }
   },
   "source": [
    "### 2.1.2 Afficher une \"image\" `display.show(image)`\n",
    "Exécuter le programme suivant:"
   ]
  },
  {
   "cell_type": "code",
   "execution_count": null,
   "metadata": {
    "slideshow": {
     "slide_type": "fragment"
    }
   },
   "outputs": [],
   "source": [
    "from microbit import *\n",
    "display.show(Image.SAD)"
   ]
  },
  {
   "cell_type": "markdown",
   "metadata": {
    "slideshow": {
     "slide_type": "fragment"
    }
   },
   "source": [
    "**Exercice 3**: On constate que la carte est un peu triste. Modifier le programme précédent pour lui redonner de la joie."
   ]
  },
  {
   "cell_type": "markdown",
   "metadata": {
    "slideshow": {
     "slide_type": "subslide"
    }
   },
   "source": [
    "Aide: ci-dessous la liste des images intégrées:\n",
    "\n",
    "*Image.HEART\n",
    "Image.HEART_SMALL\n",
    "Image.HAPPY\n",
    "Image.SMILE\n",
    "Image.SAD\n",
    "Image.CONFUSED\n",
    "Image.ANGRY\n",
    "Image.ASLEEP\n",
    "Image.SURPRISED\n",
    "Image.SILLY\n",
    "Image.FABULOUS\n",
    "Image.MEH\n",
    "Image.YES\n",
    "Image.NO\n",
    "Image.CLOCK12, Image.CLOCK11, Image.CLOCK10, Image.CLOCK9, Image.CLOCK8, Image.CLOCK7, Image.CLOCK6, Image.CLOCK5, Image.CLOCK4, Image.CLOCK3, Image.CLOCK2, Image.CLOCK1\n",
    "Image.ARROW_N, Image.ARROW_NE, Image.ARROW_E, Image.ARROW_SE, Image.ARROW_S, Image.ARROW_SW, Image.ARROW_W, Image.ARROW_NW\n",
    "Image.TRIANGLE\n",
    "Image.TRIANGLE_LEFT\n",
    "Image.CHESSBOARD\n",
    "Image.DIAMOND\n",
    "Image.DIAMOND_SMALL\n",
    "Image.SQUARE\n",
    "Image.SQUARE_SMALL\n",
    "Image.RABBIT\n",
    "Image.COW\n",
    "Image.MUSIC_CROTCHET\n",
    "Image.MUSIC_QUAVER\n",
    "Image.MUSIC_QUAVERS\n",
    "Image.PITCHFORK\n",
    "Image.XMAS\n",
    "Image.PACMAN\n",
    "Image.TARGET\n",
    "Image.TSHIRT\n",
    "Image.ROLLERSKATE\n",
    "Image.DUCK\n",
    "Image.HOUSE\n",
    "Image.TORTOISE\n",
    "Image.BUTTERFLY\n",
    "Image.STICKFIGURE\n",
    "Image.GHOST\n",
    "Image.SWORD\n",
    "Image.GIRAFFE\n",
    "Image.SKULL\n",
    "Image.UMBRELLA\n",
    "Image.SNAKE*\n",
    "\n",
    "**Prolongement**: essayer plusieurs images intégrées."
   ]
  },
  {
   "cell_type": "markdown",
   "metadata": {
    "slideshow": {
     "slide_type": "subslide"
    }
   },
   "source": [
    "#### Créer sa propre image\n",
    "Chaque pixel LED sur l’affichage physique peut prendre une parmi dix valeurs. Si un pixel prend la valeur 0 c’est qu’il est éteint. Litéralement, il a une luminosité de zéro. En revanche, s’il prend la valeur 9 il est à la luminosité maximale. Les valeurs de 1 à 8 représentent des niveaux de luminosité entre éteint (0) et « au maximum » (9)."
   ]
  },
  {
   "cell_type": "code",
   "execution_count": null,
   "metadata": {
    "slideshow": {
     "slide_type": "subslide"
    }
   },
   "outputs": [],
   "source": [
    "from microbit import *\n",
    "\n",
    "bateau = Image(\"05050:\"\n",
    "               \"05050:\"\n",
    "               \"05050:\"\n",
    "               \"99999:\"\n",
    "               \"09990\")\n",
    "\n",
    "display.show(bateau)"
   ]
  },
  {
   "cell_type": "markdown",
   "metadata": {
    "slideshow": {
     "slide_type": "subslide"
    }
   },
   "source": [
    "Comment dessiner une image? Chaque ligne de l’affichage physique est représentée par une ligne de nombres se terminant par `:` et entourée de guillemets doubles `\"`. Chaque nombre indique une luminosité. Il y a cinq lignes de cinq nombres donc il est possible de spécifier la luminosité individuelle de chacune des cinq LED sur chacune des cinq lignes sur l’affichage physique. C’est ainsi que l'on crée une image.\n",
    "\n",
    "**Exercice 4**: Le programme précédent crée et affiche l'image d'un bateau à deux mâts. Le modifier ci-dessous pour obtenir un bateau à un seul mât."
   ]
  },
  {
   "cell_type": "code",
   "execution_count": null,
   "metadata": {
    "slideshow": {
     "slide_type": "subslide"
    }
   },
   "outputs": [],
   "source": [
    "# Ecrire votre programme ici\n",
    "# Correction\n",
    "from microbit import *\n",
    "\n",
    "bateau = Image(\"00500:\"\n",
    "               \"00500:\"\n",
    "               \"00500:\"\n",
    "               \"99999:\"\n",
    "               \"09990\")\n",
    "\n",
    "display.show(bateau)"
   ]
  },
  {
   "cell_type": "markdown",
   "metadata": {
    "slideshow": {
     "slide_type": "subslide"
    }
   },
   "source": [
    "**Exercice 5**: Rédiger ci-dessous le programme qui affiche l'image suivante:\n",
    "<img src=\"https://1formatheur.github.io/img/Ex5.bmp\" alt=\"Exercie 5\" width=25% >"
   ]
  },
  {
   "cell_type": "code",
   "execution_count": null,
   "metadata": {
    "slideshow": {
     "slide_type": "subslide"
    }
   },
   "outputs": [],
   "source": [
    "# Ecrire votre programme ici\n",
    "# Correction\n",
    "from microbit import *\n",
    "\n",
    "monimage = Image(\"90009:\"\n",
    "                 \"90009:\"\n",
    "                 \"90909:\"\n",
    "                 \"90009:\"\n",
    "                 \"90009\")\n",
    "\n",
    "display.show(monimage)"
   ]
  },
  {
   "cell_type": "markdown",
   "metadata": {
    "slideshow": {
     "slide_type": "subslide"
    }
   },
   "source": [
    "**Remarque**: on peux aussi écrire les images en une seule ligne:"
   ]
  },
  {
   "cell_type": "code",
   "execution_count": null,
   "metadata": {
    "slideshow": {
     "slide_type": "subslide"
    }
   },
   "outputs": [],
   "source": [
    "from microbit import *\n",
    "\n",
    "bateau = Image(\"05050:05050:05050:99999:09990\")\n",
    "\n",
    "display.show(bateau)"
   ]
  },
  {
   "cell_type": "markdown",
   "metadata": {
    "slideshow": {
     "slide_type": "subslide"
    }
   },
   "source": [
    "### 2.1.3 Les pixels (`display.set_pixel(x, y, val)`)\n",
    "Vous pouvez régler la luminosité des pixels de l'affichage individuellement de 0 (désactivé) à 9 (luminosité maximale). Pour des informations sur les coordonnées de l'affichage, voir le [guide pour matrice à LED](https://microbit.org/guide/hardware/leds/).\n",
    "\n",
    "Exécuter le programme suivant:"
   ]
  },
  {
   "cell_type": "code",
   "execution_count": null,
   "metadata": {},
   "outputs": [],
   "source": [
    "from microbit import *\n",
    "display.set_pixel(1, 4, 9)"
   ]
  },
  {
   "cell_type": "markdown",
   "metadata": {},
   "source": [
    "**Exercice 6:** Recopier le programme précédent ci-dessous et le modifier pour allumer la LED du centre de la matrice."
   ]
  },
  {
   "cell_type": "code",
   "execution_count": null,
   "metadata": {},
   "outputs": [],
   "source": [
    "# Ecrire votre programme ici\n",
    "# Correction\n",
    "from microbit import *\n",
    "display.set_pixel(2, 2, 9)"
   ]
  },
  {
   "cell_type": "markdown",
   "metadata": {},
   "source": [
    "## 2.2 Boucle `while`\n",
    "Le programme suivant utilise une boucle `while` pour faire clignoter le pixel central de manière répétée sur l’écran. La boucle `while` se répète tant que la condition spécifiée est vraie (`True`). Dans ce cas, nous avons dit que la condition est vraie. Cela crée une *boucle infinie*. Le code qui doit être répété est en retrait (c'est une \"indentation\" du texte).\n",
    "\n",
    "L'instruction de veille `sleep()` provoque la pause du micro:bit pendant un nombre défini de millisecondes choisi entre parenthèses.\n",
    "\n",
    "L'instruction `display.clear()` éteint l'affichage."
   ]
  },
  {
   "cell_type": "code",
   "execution_count": null,
   "metadata": {},
   "outputs": [],
   "source": [
    "from microbit import *\n",
    "while True:\n",
    "    display.set_pixel(2, 2, 9)\n",
    "    sleep(500)\n",
    "    display.clear()\n",
    "    sleep(500)"
   ]
  },
  {
   "cell_type": "markdown",
   "metadata": {},
   "source": [
    "#### Avec un peu d'aléatoire  (voir [documentation sur le hasard](https://microbit-micropython.readthedocs.io/fr/latest/tutorials/random.html))\n",
    "Dans le programme suivant, on importe le module `random` de MicroPython et on l'utilise pour afficher un pixel au hasard sur la matrice."
   ]
  },
  {
   "cell_type": "code",
   "execution_count": null,
   "metadata": {},
   "outputs": [],
   "source": [
    "from microbit import *\n",
    "import random\n",
    "n=random.randint(0,4)\n",
    "p=random.randint(0,4)\n",
    "display.set_pixel(n, p, 9)"
   ]
  },
  {
   "cell_type": "markdown",
   "metadata": {},
   "source": [
    "Tester le programme précédent plusieurs fois de suite. Pour cela, redémarrer la micro:bit en appuyant sur le bouton `RESET` situé à l'arrière de la carte.\n",
    "\n",
    "**Exercice 7:** Ecrire un programme ci-dessous qui allume successivement et indéfiniment des pixels au hasard à l'écran."
   ]
  },
  {
   "cell_type": "code",
   "execution_count": null,
   "metadata": {},
   "outputs": [],
   "source": [
    "# Ecrire votre programme ici\n",
    "# Correction\n",
    "from microbit import *\n",
    "import random\n",
    "while True:\n",
    "    n=random.randint(0,4)\n",
    "    p=random.randint(0,4)\n",
    "    display.set_pixel(n, p, 9)\n",
    "    sleep(500)\n",
    "    display.clear()"
   ]
  },
  {
   "cell_type": "markdown",
   "metadata": {},
   "source": [
    "**Exercice 8:** Ecrire ci-dessous un programme qui fait clignoter un coeur indéfiniment (voir illustration ci-dessous)."
   ]
  },
  {
   "cell_type": "code",
   "execution_count": 5,
   "metadata": {},
   "outputs": [
    {
     "data": {
      "text/html": [
       "\n",
       "        <iframe\n",
       "            width=\"300\"\n",
       "            height=\"300\"\n",
       "            src=\"https://makecode.microbit.org/---run?id=_RDdU5qgo0Cf7\"\n",
       "            frameborder=\"0\"\n",
       "            allowfullscreen\n",
       "        ></iframe>\n",
       "        "
      ],
      "text/plain": [
       "<IPython.lib.display.IFrame at 0x205be7437b8>"
      ]
     },
     "execution_count": 5,
     "metadata": {},
     "output_type": "execute_result"
    }
   ],
   "source": [
    "# Illustration du résultat recherché\n",
    "from IPython.display import IFrame\n",
    "IFrame('https://makecode.microbit.org/---run?id=_RDdU5qgo0Cf7', width=300, height=300)"
   ]
  },
  {
   "cell_type": "code",
   "execution_count": null,
   "metadata": {},
   "outputs": [],
   "source": [
    "# Ecrire votre programme ici\n",
    "# Correction\n",
    "from microbit import *\n",
    "while True:\n",
    "    display.show(Image.HEART)\n",
    "    sleep(500)\n",
    "    display.clear()\n",
    "    sleep(500)"
   ]
  },
  {
   "cell_type": "markdown",
   "metadata": {},
   "source": [
    "#### Créer une animation\n",
    "En affichant plusieurs images successives, on peut réaliser une animation."
   ]
  },
  {
   "cell_type": "markdown",
   "metadata": {},
   "source": [
    "**Exercice 9:** Ecrire un programme qui réalise l'animation suivante:"
   ]
  },
  {
   "cell_type": "code",
   "execution_count": 6,
   "metadata": {},
   "outputs": [
    {
     "data": {
      "text/html": [
       "\n",
       "        <iframe\n",
       "            width=\"300\"\n",
       "            height=\"300\"\n",
       "            src=\"https://makecode.microbit.org/---run?id=_4xi7Ct2DzWXK\"\n",
       "            frameborder=\"0\"\n",
       "            allowfullscreen\n",
       "        ></iframe>\n",
       "        "
      ],
      "text/plain": [
       "<IPython.lib.display.IFrame at 0x205be743a20>"
      ]
     },
     "execution_count": 6,
     "metadata": {},
     "output_type": "execute_result"
    }
   ],
   "source": [
    "# Illustration du résultat recherché\n",
    "from IPython.display import IFrame\n",
    "IFrame('https://makecode.microbit.org/---run?id=_4xi7Ct2DzWXK', width=300, height=300)"
   ]
  },
  {
   "cell_type": "code",
   "execution_count": null,
   "metadata": {},
   "outputs": [],
   "source": [
    "# Ecrire votre programme ici\n",
    "# Correction\n",
    "from microbit import *\n",
    "image1= Image(\"00000:\"\n",
    "              \"00000:\"\n",
    "              \"00900:\"\n",
    "              \"00000:\"\n",
    "              \"00000:\")\n",
    "\n",
    "image2= Image(\"00000:\"\n",
    "              \"00900:\"\n",
    "              \"09090:\"\n",
    "              \"00900:\"\n",
    "              \"00000:\")\n",
    "\n",
    "image3= Image(\"09990:\"\n",
    "              \"90009:\"\n",
    "              \"90009:\"\n",
    "              \"90009:\"\n",
    "              \"09990:\")\n",
    "\n",
    "image4= Image(\"00000:\"\n",
    "              \"00000:\"\n",
    "              \"00000:\"\n",
    "              \"00000:\"\n",
    "              \"00000:\")\n",
    "\n",
    "while True:\n",
    "    display.show(image1)\n",
    "    sleep(300)\n",
    "    display.show(image2)\n",
    "    sleep(300)\n",
    "    display.show(image3)\n",
    "    sleep(300)\n",
    "    display.show(image4)\n",
    "    sleep(500)"
   ]
  },
  {
   "cell_type": "markdown",
   "metadata": {},
   "source": [
    "## 2.3 Boucle `for`"
   ]
  },
  {
   "cell_type": "markdown",
   "metadata": {},
   "source": [
    "Le programme suivant utilise une boucle `for` pour faire défiler un pixel sur une ligne:"
   ]
  },
  {
   "cell_type": "code",
   "execution_count": null,
   "metadata": {},
   "outputs": [],
   "source": [
    "from microbit import *\n",
    "while True:\n",
    "    for i in range(5):\n",
    "        display.set_pixel(i,0,9)\n",
    "        sleep(200)\n",
    "        display.clear()"
   ]
  },
  {
   "cell_type": "markdown",
   "metadata": {},
   "source": [
    "**Exercice 10 *(la double boucle)*:** S'inspirer du programme précédent pour réaliser un programme ci-dessous qui fait défiler un pixel sur tout l'écran."
   ]
  },
  {
   "cell_type": "code",
   "execution_count": null,
   "metadata": {},
   "outputs": [],
   "source": [
    "# Ecrire votre programme ici\n",
    "# Correction\n",
    "from microbit import *\n",
    "while True:\n",
    "    for i in range(5):\n",
    "        for j in range(5):\n",
    "            display.set_pixel(i,j,9)\n",
    "            sleep(300)\n",
    "            display.clear()"
   ]
  },
  {
   "cell_type": "markdown",
   "metadata": {},
   "source": [
    "## 2.4 Les entrées boutons A, B et A+B - programmation événementielle [(vidéo explicative)](https://youtu.be/t_Qujjd_38o)\n",
    "<div style=\"text-align:center\">\n",
    "    <img src=\"https://microbit.org/images/microbit-features-buttons.png\" width=\"25%\" style=\"display:inline-block; margin-top:10px !important\"/>\n",
    "</div>\n",
    " Il y a deux boutons sur la face avant du micro:bit (étiquetés A et B). On peut détecter quand ces boutons sont pressés, ce qui permet de déclencher un code sur l'appareil."
   ]
  },
  {
   "cell_type": "markdown",
   "metadata": {},
   "source": [
    "Exemples avec le boutton A:\n",
    "- `button_a.is_pressed()`: renvoie *True* si le bouton spécifié est actuellement enfoncé et *False* sinon.\n",
    "- `button_a.was_pressed()`: renvoie *True* ou *False* pour indiquer si le bouton a été appuyé depuis le démarrage de l'appareil ou la dernière fois que cette méthode a été appelée.\n",
    "- `button_a.get_presses()`: renvoie le nombre de fois où le bouton a été appuyé depuis le démarrage ou la dernière fois que la méthode a été appelée et réinitialise ce total à zéro."
   ]
  },
  {
   "cell_type": "markdown",
   "metadata": {},
   "source": [
    "**Exemple :** Le programme suivant fait défiler le texte \"SNT\" indéfiniment. On introduit l'**instruction conditionnelle** `if` qui va tester si le bouton A a été pressé (pendant le défilement du texte ou pendant la pause), auquel cas le programme s'arrête en exécutant la commande `break`."
   ]
  },
  {
   "cell_type": "code",
   "execution_count": null,
   "metadata": {},
   "outputs": [],
   "source": [
    "from microbit import *\n",
    "while True:\n",
    "    display.scroll(\"SNT\")\n",
    "    sleep(200)\n",
    "    if button_a.was_pressed():\n",
    "        break"
   ]
  },
  {
   "cell_type": "markdown",
   "metadata": {},
   "source": [
    "#### Instructions conditionnelles `if`, `elif`, `else`\n",
    "Voici comment se structure une instruction conditionnelle. Selon la situation, il n'est pas forcément nécessaire d'utiliser `elif` ou `else`."
   ]
  },
  {
   "cell_type": "code",
   "execution_count": null,
   "metadata": {},
   "outputs": [],
   "source": [
    "if quelque chose est vrai (``True``):\n",
    "    # fais un truc\n",
    "elif autre chose est vrai (``True``):\n",
    "    # fais un autre truc\n",
    "else:\n",
    "    # fais encore autre chose."
   ]
  },
  {
   "cell_type": "markdown",
   "metadata": {},
   "source": [
    "**Exercice 11 :** *Pierre feuille ciseaux!* Compléter le programme suivant dans lequel une pression simultanée sur les boutons A et B affichera une image de ciseaux. Sinon si, une pression sur le bouton A affichera une image de pierre. Sinon si, une pression sur le bouton B affichera une image de feuille. Il faudra créer vous-même l'image de la *pierre* et de la *feuille* avec un temps d'affichage de 0.5 seconde."
   ]
  },
  {
   "cell_type": "markdown",
   "metadata": {},
   "source": [
    "Voici pour exemple une illustration du résultat recherché: dans le simulateur suivant, clique sur le bouton A, le bouton B et le bouton qui simule la pression simultanée des boutons A et B."
   ]
  },
  {
   "cell_type": "code",
   "execution_count": 7,
   "metadata": {},
   "outputs": [
    {
     "data": {
      "text/html": [
       "\n",
       "        <iframe\n",
       "            width=\"300\"\n",
       "            height=\"300\"\n",
       "            src=\"https://makecode.microbit.org/---run?id=_LYvH1C4LK2CT\"\n",
       "            frameborder=\"0\"\n",
       "            allowfullscreen\n",
       "        ></iframe>\n",
       "        "
      ],
      "text/plain": [
       "<IPython.lib.display.IFrame at 0x205be743c50>"
      ]
     },
     "execution_count": 7,
     "metadata": {},
     "output_type": "execute_result"
    }
   ],
   "source": [
    "# Illustration du résultat recherché\n",
    "from IPython.display import IFrame\n",
    "IFrame('https://makecode.microbit.org/---run?id=_LYvH1C4LK2CT', width=300, height=300)"
   ]
  },
  {
   "cell_type": "code",
   "execution_count": null,
   "metadata": {},
   "outputs": [],
   "source": [
    "# Ecrire votre programme ici\n",
    "# Correction\n",
    "from microbit import *\n",
    "\n",
    "#pierre = Image(\"00900:\"\n",
    "#               \"09990:\"\n",
    "#               \"99999:\"\n",
    "#               \"09990:\"\n",
    "#               \"00900:\")\n",
    "\n",
    "#feuille = Image(\"99999:\"\n",
    "#                \"99999:\"\n",
    "#                \"99999:\"\n",
    "#                \"99999:\"\n",
    "#                \"99999:\")\n",
    "\n",
    "ciseaux = Image(\"99009:\"\n",
    "                \"99090:\"\n",
    "                \"00900:\"\n",
    "                \"99090:\"\n",
    "                \"99009:\")\n",
    "\n",
    "while True:\n",
    "    if button_a.is_pressed() and button_b.is_pressed():\n",
    "        display.show(ciseaux)\n",
    "        sleep(500)\n",
    "    elif button_a.is_pressed():\n",
    "        display.show(pierre)\n",
    "        sleep(500)\n",
    "    elif button_b.is_pressed():\n",
    "        display.show(feuille)\n",
    "        sleep(500)\n",
    "    display.clear()\n",
    "    sleep(100)"
   ]
  },
  {
   "cell_type": "markdown",
   "metadata": {},
   "source": [
    "## 2.5 Capteur de lumière [(vidéo)](https://youtu.be/TKhCr-dQMBY)\n",
    "<div style=\"text-align:center\">\n",
    "    <img src=\"https://microbit.org/images/microbit-features-light.png\" width=\"25%\" style=\"display:inline-block; margin-top:10px !important\"/>\n",
    "</div>\n",
    "En inversant les LEDs d'un écran pour devenir un point d'entrée, l'écran LED devient un capteur de lumière basique, permettant de détecter la luminosité ambiante.\n",
    "\n",
    "La commande `display.read_light_level()` retourne un entier compris entre 0 et 255 représentant le niveau de lumière."
   ]
  },
  {
   "cell_type": "markdown",
   "metadata": {},
   "source": [
    "**Exercice 12:** Ecrire un programme ci-dessous qui affiche une lune si on baisse la luminosité (en recouvrant la carte avec sa main par exemple) et un soleil sinon."
   ]
  },
  {
   "cell_type": "code",
   "execution_count": null,
   "metadata": {},
   "outputs": [],
   "source": [
    "# Ecrire votre programme ici\n",
    "# Correction\n",
    "from microbit import *\n",
    "\n",
    "soleil = Image(\"90909:\"\n",
    "               \"09990:\"\n",
    "               \"99999:\"\n",
    "               \"09990:\"\n",
    "               \"90909:\")\n",
    "\n",
    "lune = Image(\"00999:\"\n",
    "             \"09990:\"\n",
    "             \"09900:\"\n",
    "             \"09990:\"\n",
    "             \"00999:\")\n",
    "\n",
    "while True:\n",
    "    if display.read_light_level()>30:\n",
    "        display.show(soleil)\n",
    "    else:\n",
    "        display.show(lune)\n",
    "    sleep(10)"
   ]
  },
  {
   "cell_type": "markdown",
   "metadata": {},
   "source": [
    "**Prolongement:** créer un programme qui affiche le niveau de luminosité et le tester avec la LED d'un téléphone portable ou une lampe-torche par exemple. Plus la luminosité sera élevée, plus il y aura de LEDs affichées sur la matrice."
   ]
  },
  {
   "cell_type": "markdown",
   "metadata": {},
   "source": [
    "## 2.6 Capteur de température [(vidéo)](https://youtu.be/_T4N8O9xsMA)\n",
    "<div style=\"text-align:center\">\n",
    "    <img src=\"https://microbit.org/images/microbit-features-temp.png\" width=\"30%\" style=\"display:inline-block; margin-top:10px !important\"/>\n",
    "</div>\n",
    "Le micro:bit n’a pas un capteur de température dédié. Au lieu de cela, la température fournie est en fait la température de la puce de silicium du processeur principal. Comme le processeur chauffe peu en fonctionnement (c'est un processeur ARM à grande efficacité), sa température est une bonne approximation de la température ambiante.\n",
    "L'instruction `temperature()` renvoie la température de la carte micro:bit en degrés Celsius."
   ]
  },
  {
   "cell_type": "markdown",
   "metadata": {},
   "source": [
    "**Exercice 13:** Ecrire un programme qui affiche la température."
   ]
  },
  {
   "cell_type": "code",
   "execution_count": null,
   "metadata": {},
   "outputs": [],
   "source": [
    "# Ecrire votre programme ici\n",
    "# Correction\n",
    "from microbit import *\n",
    "\n",
    "while True:\n",
    "    sleep(3000)\n",
    "    display.scroll(temperature())"
   ]
  },
  {
   "cell_type": "markdown",
   "metadata": {},
   "source": [
    "## 2.7 Accéléromètre [(vidéo)](https://youtu.be/byngcwjO51U)\n",
    "<div style=\"text-align:center\">\n",
    "    <img src=\"https://microbit.org/images/microbit-features-accelerometer.png\" width=\"30%\" style=\"display:inline-block; margin-top:10px !important\"/>\n",
    "</div>\n",
    "Un accéléromètre mesure l'accélération de la carte micro:bit, ce composant détecte quand la micro:bit est en mouvement. Il peut aussi détecter d'autres actions (gestes), par exemple quand elle est secouée, inclinée ou qu'elle tombe.\n",
    "\n",
    "Si tu t’es déjà demandé comment un téléphone portable sait dans quel sens afficher les images sur son écran, c’est parce qu’il utilise un accéléromètre. Les manettes de jeux contiennent aussi des accéléromètres pour t’aider à tourner et à te déplacer dans les jeux."
   ]
  },
  {
   "cell_type": "markdown",
   "metadata": {},
   "source": [
    "La carte micro:bit est munie d’un accéléromètre. Il mesure le mouvement selon trois axes :\n",
    "\n",
    "- X - l’inclinaison de gauche à droite.\n",
    "- Y - l’inclinaison d’avant en arrière.\n",
    "- Z - le mouvement haut et bas.\n",
    "\n",
    "Dans l'exemple suivant, l'instruction `accelerometer.get_x()` permet de détecter un mouvement de gauche à droite en renvoyant un nombre compris entre -1023 et 1023; 0 étant la position \"d'équilibre\""
   ]
  },
  {
   "cell_type": "code",
   "execution_count": null,
   "metadata": {},
   "outputs": [],
   "source": [
    "#Exemple\n",
    "from microbit import *\n",
    "\n",
    "while True:\n",
    "    abscisse = accelerometer.get_x()\n",
    "    if abscisse > 500:\n",
    "        display.show(Image.ARROW_E)\n",
    "    elif abscisse < -500:\n",
    "        display.show(Image.ARROW_W)\n",
    "    else:\n",
    "        display.show(\"-\")"
   ]
  },
  {
   "cell_type": "markdown",
   "metadata": {},
   "source": [
    "**Exercice 14:** Compléter le programme suivant pour obtenir le résultat illustré dans le simulateur (survole le simulateur pour observer le résultat souhaité)."
   ]
  },
  {
   "cell_type": "code",
   "execution_count": 8,
   "metadata": {},
   "outputs": [
    {
     "data": {
      "text/html": [
       "\n",
       "        <iframe\n",
       "            width=\"300\"\n",
       "            height=\"300\"\n",
       "            src=\"https://makecode.microbit.org/---run?id=_d1HLyAa03Xdh\"\n",
       "            frameborder=\"0\"\n",
       "            allowfullscreen\n",
       "        ></iframe>\n",
       "        "
      ],
      "text/plain": [
       "<IPython.lib.display.IFrame at 0x205be755048>"
      ]
     },
     "execution_count": 8,
     "metadata": {},
     "output_type": "execute_result"
    }
   ],
   "source": [
    "# Illustration du résultat recherché\n",
    "from IPython.display import IFrame\n",
    "IFrame('https://makecode.microbit.org/---run?id=_d1HLyAa03Xdh', width=300, height=300)"
   ]
  },
  {
   "cell_type": "code",
   "execution_count": null,
   "metadata": {},
   "outputs": [],
   "source": [
    "# Correction\n",
    "from microbit import *\n",
    "\n",
    "while True:\n",
    "    abscisse = accelerometer.get_x()\n",
    "    ordonnee = accelerometer.get_y()\n",
    "    if abscisse > 500:\n",
    "        display.show(Image.ARROW_E)\n",
    "    elif abscisse < -500:\n",
    "        display.show(Image.ARROW_W)\n",
    "#    elif ordonnee > 500:\n",
    "#        display.show(Image.ARROW_S)\n",
    "#    elif ordonnee < -500:\n",
    "#        display.show(Image.ARROW_N)\n",
    "    else:\n",
    "        display.show(\"-\")"
   ]
  },
  {
   "cell_type": "markdown",
   "metadata": {},
   "source": [
    "**Prolongement (*secouer les dés!*):** Ecrire un programme qui simule un dé en affichant une face au hasard lorsque la micro:bit est secouée. On pourra utiliser l'instruction `accelerometer.is_gesture(shake)` qui teste si la carte est secouée. Plus d'informations sur les gestes [ici](https://microbit-micropython.readthedocs.io/fr/latest/tutorials/gestures.html)."
   ]
  },
  {
   "cell_type": "code",
   "execution_count": null,
   "metadata": {},
   "outputs": [],
   "source": [
    "#Correction\n",
    "from microbit import *\n",
    "import random\n",
    "\n",
    "faces = [Image('00000:00000:00900:00000:00000:'),\n",
    "        Image('00009:00000:00000:00000:90000:'),\n",
    "        Image('00009:00000:00900:00000:90000:'),\n",
    "        Image('90009:00000:00000:00000:90009:'),\n",
    "        Image('90009:00000:00900:00000:90009:'),\n",
    "        Image('90009:00000:90009:00000:90009:')]\n",
    "   \n",
    "while True:\n",
    "    if accelerometer.is_gesture('shake'):\n",
    "        display.show(random.choice(faces))"
   ]
  },
  {
   "cell_type": "markdown",
   "metadata": {},
   "source": [
    "**Pour le plaisir:** Essayer le jeu d'évitement d'obstacles *\"Simple Slalom\"* utilisant l'accéléromètre. À récupérer [sur cette page](https://microbit-micropython.readthedocs.io/fr/latest/accelerometer.html)."
   ]
  },
  {
   "cell_type": "markdown",
   "metadata": {},
   "source": [
    "## 2.8 Boussole\n",
    "<div style=\"text-align:center\">\n",
    "    <img src=\"https://microbit.org/images/microbit-features-compass.png\" width=\"25%\" style=\"display:inline-block; margin-top:10px !important\"/>\n",
    "</div>\n",
    "La boussole détecte le champ magnétique de la Terre, nous permettant de savoir quelle direction la micro:bit indique. La boussole doit être étalonnée avant de pouvoir être utilisée. Pour cela, on utilise `compass.calibrate()` qui exécute un petit jeu: au départ, micro:bit fait défiler \"Tilt to fill screen\". Ensuite, incliner micro:bit pour déplacer le point au centre de l’écran autour jusqu'à ce que vous ayez rempli la totalité de l’écran.\n",
    "\n",
    "La fonction `compass.heading()` donne le cap de la boussole sous la forme d'un entier compris entre 0 et 360, représentant l'angle en degrés, dans le sens des aiguilles d'une montre, avec le nord égal à 0."
   ]
  },
  {
   "cell_type": "markdown",
   "metadata": {},
   "source": [
    "**Exercice 15:** Ecrire un programme qui indique le Nord."
   ]
  },
  {
   "cell_type": "code",
   "execution_count": null,
   "metadata": {},
   "outputs": [],
   "source": [
    "# Ecrire votre programme ici\n",
    "# Correction\n",
    "from microbit import *\n",
    "\n",
    "compass.calibrate()\n",
    "\n",
    "while True:\n",
    "    if compass.heading() < 10 or compass.heading() > 350:\n",
    "        display.show(Image.ARROW_N)\n",
    "    else:\n",
    "        display.show(Image.DIAMOND_SMALL)"
   ]
  },
  {
   "cell_type": "markdown",
   "metadata": {},
   "source": [
    "**Prolongements:** Améliorer le programme pour que le micro:bit indique \"N\", \"S\", \"E\" et \"O\" en fonction de l'orientation de la boussole. Autre prolongement: fabriquer une station météo qui détermine la direction du vent. Ou encore étudier l'intensité du champ magnétique autour du périphérique (en utilisant la fonction `compass.get_field_strength()`). Plus d'informations sur les fonctions \"boussole\" [ici](https://microbit-micropython.readthedocs.io/en/latest/compass.html)."
   ]
  },
  {
   "cell_type": "markdown",
   "metadata": {},
   "source": [
    "# 3. IHM (Interface homme-machine)\n",
    "<img src=\"https://1formatheur.github.io/img/ihm.jpg\" alt=\"Bouton de Mu pour flasher micro:bit\" width=40%>"
   ]
  },
  {
   "cell_type": "markdown",
   "metadata": {},
   "source": [
    "**Une IHM est un dispositif avec lequel l'humain peut envoyer ou récupérer de l'information avec l'objet connecté.**\n",
    "\n",
    "Notre IHM consistera en une fenêtre permettant l'acquisition de données provenant de la carte micro:bit et permettant également de transmettre des informations à la carte."
   ]
  },
  {
   "cell_type": "markdown",
   "metadata": {},
   "source": [
    "## 3.1 La carte transmet sa température (programme \"PRG1\")"
   ]
  },
  {
   "cell_type": "markdown",
   "metadata": {},
   "source": [
    "Le programme suivant appelé ***\"PRG1\"*** affiche la température sur la matrice mais surtout **envoie la valeur de la variable \"temp\" et donc sa température à l'ordinateur via l'instruction `print(temp)`**."
   ]
  },
  {
   "cell_type": "code",
   "execution_count": null,
   "metadata": {},
   "outputs": [],
   "source": [
    "# PRG1 à flasher dans la micro:bit (cliquer sur \"Flasher\")\n",
    "# Programme à flasher avec le logiciel Mu en mode \"BBC micro:bit\"\n",
    "\n",
    "from microbit import *     # Importe la bibliothèque microbit\n",
    "    \n",
    "while True:     # Boucle infinie\n",
    "    temp=temperature()     # Initialise la variable temp à la valeur de la température \n",
    "    display.scroll(temp)   # Affiche la température sur le microbit\n",
    "    print(temp)            # Transmet la valeur de la variable à l'ordinateur"
   ]
  },
  {
   "cell_type": "markdown",
   "metadata": {},
   "source": [
    "**Cliquer sur le bouton `Flasher` du logiciel Mu pour téléverser et exécuter le programme dans la micro:bit** (le logiciel Mu doit être en mode \"BBC micro:bit\", voir 2.2.2)."
   ]
  },
  {
   "cell_type": "markdown",
   "metadata": {},
   "source": [
    "## 3.2 L'ordinateur reçoit et affiche la température"
   ]
  },
  {
   "cell_type": "markdown",
   "metadata": {},
   "source": [
    ">Pour créer l'IHM, nous allons utiliser la bibliothèque Python ***tkinter*** qui va nous permettre de **construire une fenêtre pour interagir avec la micro:bit**.\n",
    "\n",
    ">Nous utiliserons également la bibliothèque ***serial*** pour **gérer les entrées/sorties à travers les ports utilisés par le système**."
   ]
  },
  {
   "cell_type": "markdown",
   "metadata": {},
   "source": [
    "### 3.2.1 Identifier le port série (*port COM*) dédié à la micro:bit\n",
    "Pour récupérer la valeur de la température, on va utiliser le port série (port USB de l’ordinateur).\n",
    "Il faut trouver le numéro de port sur lequel la micro:bit est branchée pour pouvoir communiquer."
   ]
  },
  {
   "cell_type": "markdown",
   "metadata": {},
   "source": [
    "#### Sur Windows:\n",
    "Ouvrir l'invite de commande en tapant **cmd** dans la barre de recherche windows.\n",
    "<img src=\"https://1formatheur.github.io/img/cmd.png\" alt=\"invite de commande\" width=60%>\n",
    "Taper **Mode** pour avoir la liste des périphériques branchés à l’ordinateur\n",
    "<img src=\"https://1formatheur.github.io/img/modecom.png\" alt=\"Mode pour port COM\" width=30%>\n",
    "(COM1 et COM 2 sont parfois la souris et le clavier)\n",
    "#### Sur MacOS:\n",
    "Ouvrir le Terminal et saisir la commande: \"ls /dev/tty.usb*\n",
    "\n",
    "Votre port devrait apparaitre sous la forme: \"/dev/tty.usbmodem14102\""
   ]
  },
  {
   "cell_type": "markdown",
   "metadata": {},
   "source": [
    "### 3.2.2 Mettre le logiciel Mu en mode \"Python 3\"\n",
    "<img src=\"https://1formatheur.github.io/img/logiciel_mu_mode_python3.png\" alt=\"Logiciel Mu en mode micro:bit\" width=40% >"
   ]
  },
  {
   "cell_type": "markdown",
   "metadata": {},
   "source": [
    "### 3.2.3 Exécuter le programme créant l'IHM ci-dessous (programme \"PRG2\")"
   ]
  },
  {
   "cell_type": "code",
   "execution_count": null,
   "metadata": {},
   "outputs": [],
   "source": [
    "# PRG2\n",
    "# Programme à exécuter avec le logiciel Mu en mode \"Python 3\" (cliquer sur \"Lancer\")\n",
    "\n",
    "import serial               # Importe la bibliothèque serial\n",
    "from tkinter import *       # Importe la bibliothèque tkinter\n",
    "port = \"votre port\"         # \"COM6\" par exemple pour Windows ou \"/dev/tty.usbmodem14102\" sur Mac\n",
    "ser = serial.Serial(port)   # Déclaration de la variable ser qui ouvre le port série\n",
    "ser.baudrate = 115200       # Vitesse de transmission\n",
    "\n",
    "data = ser.readline()           # On lit sur le port série ce qui est envoyé par la micro:bit et on le stocke dans la variable data\n",
    "ma_fenetre = Tk()               # On crée une fenêtre qui sert d'interface avec la carte\n",
    "ma_fenetre.geometry(\"400x300\")  # Fixe la taille de la fenêtre\n",
    "ma_fenetre.title(\"IHM\")         # Donne un titre à la fenêtre\n",
    "affich_temp = Label(ma_fenetre, text=data, font=(\"arial\", 70), fg=\"green\")  # Crée le texte qui sera affiché dans la fenêtre\n",
    "affich_temp.pack()              # Positionne ce texte dans notre fenêtre\n",
    "ma_fenetre.mainloop()           # Pour que la fenêtre reste ouverte"
   ]
  },
  {
   "cell_type": "markdown",
   "metadata": {},
   "source": [
    "#### Une fenêtre s'ouvre affichant la température lue par la carte.\n",
    "<img src=\"https://1formatheur.github.io/img/temp.png\" alt=\"IHM affichant la température\" width=35% >"
   ]
  },
  {
   "cell_type": "markdown",
   "metadata": {},
   "source": [
    "**Exercice 16:** Recopier le programme précédent ci-dessous puis modifier les paramètres de la fenêtre IHM (modifier les dimensions, le titre, la police de caractères, la taille de la police, la couleur de la police...)."
   ]
  },
  {
   "cell_type": "code",
   "execution_count": null,
   "metadata": {},
   "outputs": [],
   "source": [
    "# Ecrire votre programme ici\n",
    "# Correction\n",
    "\n",
    "# PRG2\n",
    "# Programme à exécuter avec le logiciel Mu en mode \"Python 3\" (cliquer sur \"Lancer\")\n",
    "\n",
    "import serial               # Importe la bibliothèque serial\n",
    "from tkinter import *       # Importe la bibliothèque tkinter\n",
    "port = \"votre port\"         # \"COM6\" par exemple pour Windows ou \"/dev/tty.usbmodem14102\" sur Mac\n",
    "ser = serial.Serial(port)   # Déclaration de la variable ser qui ouvre le port série\n",
    "ser.baudrate = 115200       # Vitesse de transmission\n",
    "\n",
    "data = ser.readline()           # On lit sur le port série ce qui est envoyé par la micro:bit et on le stocke dans la variable data\n",
    "ma_fenetre = Tk()               # On crée une fenêtre qui sert d'interface avec la carte\n",
    "ma_fenetre.geometry(\"300x200\")  # Fixe la taille de la fenêtre\n",
    "ma_fenetre.title(\"IHM\")         # Donne un titre à la fenêtre\n",
    "affich_temp = Label(ma_fenetre, text=data, font=(\"times\", 50), fg=\"red\")  # Crée une zone de texte (\"label\") affichée dans la fenêtre\n",
    "affich_temp.pack()              # Positionne ce texte dans notre fenêtre\n",
    "ma_fenetre.mainloop()           # Pour que la fenêtre reste ouverte"
   ]
  },
  {
   "cell_type": "markdown",
   "metadata": {},
   "source": [
    "**Exercice 17:** Modifier le programme \"PRG1\" (côté carte) pour que la fenêtre affiche cette fois **le niveau de luminosité** (de 0 à 255) lu par la carte (voir le point \"2.5 Capteur de lumière\"). Il n'est pas nécessaire de modifier le PRG2 côté ordinateur."
   ]
  },
  {
   "cell_type": "code",
   "execution_count": null,
   "metadata": {},
   "outputs": [],
   "source": [
    "# Ecrire votre nouveau \"PRG1\" ici\n",
    "# Correction\n",
    "\n",
    "from microbit import *     # Importe la bibliothèque microbit\n",
    "    \n",
    "while True:     # Boucle infinie\n",
    "    lumi=display.read_light_level()     # Initialise la variable lumi à la valeur du capteur de lumière de la carte\n",
    "    display.scroll(lumi)                # Affiche la valeur de la variable sur la carte\n",
    "    print(lumi)                         # Transmet la valeur de la variable à l'ordinateur"
   ]
  },
  {
   "cell_type": "markdown",
   "metadata": {},
   "source": [
    "## 3.3 Réalisation d'une IHM plus complexe\n",
    "<img src=\"https://1formatheur.github.io/img/IHM.png\" alt=\"IHM\" width=35% >\n",
    "Nous allons ajouter un **bouton pour récupérer la température** fournie par la carte et un **champ de saisie de texte** pour qu'il soit affiché sur la carte. Pour cela, nous allons utiliser les programmes *PRG1* et *PRG2* suivants."
   ]
  },
  {
   "cell_type": "markdown",
   "metadata": {},
   "source": [
    "### PRG1 à flasher dans la carte micro:bit"
   ]
  },
  {
   "cell_type": "code",
   "execution_count": null,
   "metadata": {},
   "outputs": [],
   "source": [
    "# PRG1 à flasher dans la micro:bit (cliquer sur \"Flasher\")\n",
    "# Programme à flasher avec le logiciel Mu en mode \"BBC micro:bit\"\n",
    "\n",
    "from microbit import *\n",
    "\n",
    "uart.init(baudrate=115200)               # Vitesse de transfert\n",
    "\n",
    "display.scroll('Pret')                   # La carte affiche \"pret\"\n",
    "\n",
    "while True:\n",
    "    if uart.any():                       # Si la carte reçoit une transmission de l'ordinateur\n",
    "        message = uart.read()            # On stocke la valeur dans la variable \"message\"\n",
    "        if message == b'temperature':    # Si la valeur est \"temperature\",\n",
    "            temp = temperature()\n",
    "            print(temp)                  # La carte envoie la valeur de la température à l'ordinateur\n",
    "            display.scroll(temp)         # La carte affiche la température sur sa matrice\n",
    "        elif message == b'pacman':       # Sinon si le message reçu est \"pacman\"\n",
    "            display.show(Image.PACMAN)   # La carte affiche l'image de Pacman\n",
    "        else:                            # Sinon enfin\n",
    "            textedefil = str(message, 'UTF-8')     # Transforme le message en chaîne de caractères\n",
    "            display.scroll(textedefil, delay=80)   # La carte affiche le message reçu sous forme de texte défilant\n",
    "    sleep(1000)"
   ]
  },
  {
   "cell_type": "markdown",
   "metadata": {},
   "source": [
    "### PRG2 à lancer dans l'ordinateur"
   ]
  },
  {
   "cell_type": "code",
   "execution_count": null,
   "metadata": {},
   "outputs": [],
   "source": [
    "# PRG2\n",
    "# Programme à exécuter avec le logiciel Mu en mode \"Python 3\" (cliquer sur \"Lancer\")\n",
    "\n",
    "import serial, time\n",
    "\n",
    "from tkinter import *\n",
    "\n",
    "port = \"votre port\"         # \"COM6\" par exemple pour Windows ou \"/dev/tty.usbmodem14102\" sur Mac\n",
    "baud = 115200\n",
    "s = serial.Serial(port)\n",
    "s.baudrate = baud\n",
    "\n",
    "\n",
    "def demande_temperature():           # Fonction pour demander la température à la carte micro:bit\n",
    "    s.write(b'temperature')\n",
    "    data = s.readline()\n",
    "    data = int(data[0:4])\n",
    "    print(data)\n",
    "    texte_temperature.set(\"Température : \"+str(data))\n",
    "\n",
    "def envoie_message():                # Fonction pour envoyer un message à faire défiler sur la matrice de la carte\n",
    "    message_bytes = bytes(texte_message.get(), 'utf-8')\n",
    "    s.write(message_bytes)\n",
    "\n",
    "def quitter():         # Fonction pour fermer la fenêtre d'interface\n",
    "    s.close()\n",
    "    ma_fenetre.destroy()\n",
    "\n",
    "\n",
    "# Fenêtre principale\n",
    "ma_fenetre = Tk()\n",
    "ma_fenetre.title(\"IHM\")\n",
    "ma_fenetre.geometry(\"300x200\")\n",
    "\n",
    "# Création d'un bouton pour recuperer la temperature\n",
    "button_temperature = Button(ma_fenetre, text=\"Temperature\", command=demande_temperature)\n",
    "button_temperature.grid(row=1, column=0, padx=5, pady=5)\n",
    "\n",
    "# Creation d'un label pour afficher la temperature\n",
    "texte_temperature = StringVar()\n",
    "texte_temperature.set(\"Température : \")\n",
    "label_temperature = Label(ma_fenetre, textvariable=texte_temperature , bg=\"grey\")\n",
    "label_temperature.grid(row=1, column=1, padx=5, pady=5)\n",
    "\n",
    "# Création d'un bouton pour envoyer un message\n",
    "button_message = Button(ma_fenetre, text =\"Envoyer\", command=envoie_message)\n",
    "button_message.grid(row=2, column=1, padx=5, pady=50)\n",
    "\n",
    "# Création d'un champ de saisie d'un message\n",
    "texte_message = StringVar()\n",
    "texte_message.set('Iaorana')\n",
    "champ_message = Entry(ma_fenetre, textvariable=texte_message, bg=\"bisque\", fg=\"maroon\", width=\"20\")\n",
    "champ_message.focus_set()\n",
    "champ_message.grid(row=2, column=0, padx=5, pady=5)\n",
    "\n",
    "# Création d'un bouton Quitter\n",
    "button_quitter = Button(ma_fenetre, text=\"Quitter\", command=quitter)\n",
    "button_quitter.grid(row=3,column=0, padx=5, pady=5)\n",
    "\n",
    "ma_fenetre.mainloop()"
   ]
  },
  {
   "cell_type": "markdown",
   "metadata": {},
   "source": [
    "#### Vérifier le bon fonctionnement des programmes précédents en testant l'interface.\n",
    "**Question:** Que se passe-t-il lorsqu'on envoie le texte \"pacman\" via le champ de saisie de l'interface?"
   ]
  },
  {
   "cell_type": "markdown",
   "metadata": {},
   "source": [
    "**Exercice 18:** Ajouter un bouton \"Luminosité\" à l'IHM qui récupère l'intensité de la luminosité lue par le capteur de luminosité de la carte. On pourra prendre exemple sur le bouton \"Température\"."
   ]
  },
  {
   "cell_type": "markdown",
   "metadata": {},
   "source": [
    "# SOLUTION:\n",
    "<img src=\"https://1formatheur.github.io/img/IHM2.png\" alt=\"IHM 2\" width=35% >"
   ]
  },
  {
   "cell_type": "code",
   "execution_count": null,
   "metadata": {},
   "outputs": [],
   "source": [
    "# PRG1 à flasher dans la micro:bit (cliquer sur \"Flasher\")\n",
    "# Programme à flasher avec le logiciel Mu en mode \"BBC micro:bit\"\n",
    "\n",
    "from microbit import *\n",
    "\n",
    "uart.init(baudrate=115200)               # Vitesse de transfert\n",
    "\n",
    "display.scroll('Pret')                   # La carte affiche \"pret\"\n",
    "\n",
    "while True:\n",
    "    if uart.any():                       # Si la carte reçoit une transmission de l'ordinateur\n",
    "        message = uart.read()            # On stocke la valeur dans la variable \"message\"\n",
    "        if message == b'temperature':    # Si la valeur est \"temperature\",\n",
    "            temp = temperature()\n",
    "            print(temp)                  # La carte envoie la valeur de la température à l'ordinateur\n",
    "            display.scroll(temp)         # La carte affiche la température sur sa matrice\n",
    "        elif message == b'luminosite':\n",
    "            lumi = display.read_light_level()\n",
    "            print(lumi)\n",
    "            display.scroll(lumi)\n",
    "        elif message == b'pacman':       # Sinon si le message reçu est \"pacman\"\n",
    "            display.show(Image.PACMAN)   # La carte affiche l'image de Pacman\n",
    "        else:                            # Sinon enfin\n",
    "            textedefil = str(message, 'UTF-8')     # Transforme le message en chaîne de caractères\n",
    "            display.scroll(textedefil, delay=80)   # La carte affiche le message reçu sous forme de texte défilant\n",
    "    sleep(1000)"
   ]
  },
  {
   "cell_type": "code",
   "execution_count": null,
   "metadata": {},
   "outputs": [],
   "source": [
    "# PRG2\n",
    "# Programme à exécuter avec le logiciel Mu en mode \"Python 3\" (cliquer sur \"Lancer\")\n",
    "\n",
    "import serial, time\n",
    "\n",
    "from tkinter import *\n",
    "\n",
    "port = \"votre port\"         # \"COM6\" par exemple pour Windows ou \"/dev/tty.usbmodem14102\" sur Mac\n",
    "baud = 115200\n",
    "s = serial.Serial(port)\n",
    "s.baudrate = baud\n",
    "\n",
    "\n",
    "def demande_temperature():           # Fonction pour demander la température à la carte micro:bit\n",
    "    s.write(b'temperature')\n",
    "    data = s.readline()\n",
    "    data = int(data[0:4])\n",
    "    print(data)\n",
    "    texte_temperature.set(\"Température : \"+str(data))\n",
    "\n",
    "def demande_luminosite():\n",
    "    s.write(b'luminosite')\n",
    "    data = s.readline()\n",
    "    data = int(data[0:4])\n",
    "    print(data)\n",
    "    texte_luminosite.set(\"Luminosité : \"+str(data))\n",
    "\n",
    "def envoie_message():                # Fonction pour envoyer un message à faire défiler sur la matrice de la carte\n",
    "    message_bytes = bytes(texte_message.get(), 'utf-8')\n",
    "    s.write(message_bytes)\n",
    "\n",
    "def quitter():         # Fonction pour fermer la fenêtre d'interface\n",
    "    s.close()\n",
    "    ma_fenetre.destroy()\n",
    "\n",
    "\n",
    "# Fenêtre principale\n",
    "ma_fenetre = Tk()\n",
    "ma_fenetre.title(\"IHM\")\n",
    "ma_fenetre.geometry(\"300x200\")\n",
    "\n",
    "# Création d'un bouton pour recuperer la temperature\n",
    "button_temperature = Button(ma_fenetre, text=\"Temperature\", command=demande_temperature)\n",
    "button_temperature.grid(row=1, column=0, padx=5, pady=5)\n",
    "\n",
    "# Creation d'un label pour afficher la temperature\n",
    "texte_temperature = StringVar()\n",
    "texte_temperature.set(\"Température : \")\n",
    "label_temperature = Label(ma_fenetre, textvariable=texte_temperature , bg=\"grey\")\n",
    "label_temperature.grid(row=1, column=1, padx=5, pady=5)\n",
    "\n",
    "# Création d'un bouton pour recuperer la luminosité\n",
    "button_temperature = Button(ma_fenetre, text=\"Luminosite\", command=demande_luminosite)\n",
    "button_temperature.grid(row=2, column=0, padx=5, pady=5)\n",
    "\n",
    "# Creation d'un label pour afficher la luminosité\n",
    "texte_luminosite = StringVar()\n",
    "texte_luminosite.set(\"Luminosite: \")\n",
    "label_luminosite = Label(ma_fenetre, textvariable=texte_luminosite , bg=\"grey\")\n",
    "label_luminosite.grid(row=2, column=1, padx=5, pady=5)\n",
    "\n",
    "# Création d'un bouton pour envoyer un message\n",
    "button_message = Button(ma_fenetre, text =\"Envoyer\", command=envoie_message)\n",
    "button_message.grid(row=3, column=1, padx=5, pady=50)\n",
    "\n",
    "# Création d'un champ de saisie d'un message\n",
    "texte_message = StringVar()\n",
    "texte_message.set('Iaorana')\n",
    "champ_message = Entry(ma_fenetre, textvariable=texte_message, bg=\"bisque\", fg=\"maroon\", width=\"20\")\n",
    "champ_message.focus_set()\n",
    "champ_message.grid(row=3, column=0, padx=5, pady=5)\n",
    "\n",
    "# Création d'un bouton Quitter\n",
    "button_quitter = Button(ma_fenetre, text=\"Quitter\", command=quitter)\n",
    "button_quitter.grid(row=4,column=0, padx=5, pady=5)\n",
    "\n",
    "ma_fenetre.mainloop()"
   ]
  },
  {
   "cell_type": "markdown",
   "metadata": {},
   "source": [
    "# The End ----------------------------------------------------------------------------------------"
   ]
  }
 ],
 "metadata": {
  "kernelspec": {
   "display_name": "Python 3",
   "language": "python",
   "name": "python3"
  },
  "language_info": {
   "codemirror_mode": {
    "name": "ipython",
    "version": 3
   },
   "file_extension": ".py",
   "mimetype": "text/x-python",
   "name": "python",
   "nbconvert_exporter": "python",
   "pygments_lexer": "ipython3",
   "version": "3.7.3"
  }
 },
 "nbformat": 4,
 "nbformat_minor": 2
}
